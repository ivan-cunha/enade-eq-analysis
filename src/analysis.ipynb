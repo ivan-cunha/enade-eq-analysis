{
 "cells": [
  {
   "cell_type": "markdown",
   "metadata": {
    "application/vnd.databricks.v1+cell": {
     "cellMetadata": {},
     "inputWidgets": {},
     "nuid": "518cfde2-1c81-4165-9c97-ae150ec9d4b0",
     "showTitle": false,
     "title": ""
    }
   },
   "source": [
    "# Studying Tables"
   ]
  },
  {
   "cell_type": "code",
   "execution_count": null,
   "metadata": {
    "application/vnd.databricks.v1+cell": {
     "cellMetadata": {
      "byteLimit": 2048000,
      "implicitDf": true,
      "rowLimit": 10000
     },
     "inputWidgets": {},
     "nuid": "a34765c0-cd44-4360-af37-acb21f6aff05",
     "showTitle": false,
     "title": ""
    }
   },
   "outputs": [
    {
     "data": {
      "text/html": [
       "<style scoped>\n",
       "  .table-result-container {\n",
       "    max-height: 300px;\n",
       "    overflow: auto;\n",
       "  }\n",
       "  table, th, td {\n",
       "    border: 1px solid black;\n",
       "    border-collapse: collapse;\n",
       "  }\n",
       "  th, td {\n",
       "    padding: 5px;\n",
       "  }\n",
       "  th {\n",
       "    text-align: left;\n",
       "  }\n",
       "</style><div class='table-result-container'><table class='table-result'><thead style='background-color: white'><tr><th>ano</th><th>codigo_do_curso</th><th>codigo_da_area</th><th>grau_academico</th><th>codigo_da_ies</th><th>codigo_do_municipio</th><th>modalidade_de_ensino</th><th>no_de_concluintes_inscritos</th><th>no_de_concluintes_participantes</th><th>nota_bruta_fg</th><th>nota_padronizada_fg</th><th>nota_bruta_ce</th><th>nota_padronizada_ce</th><th>conceito_enade_continuo</th><th>conceito_enade_faixa</th><th>qe_i27</th><th>qe_i28</th><th>qe_i29</th><th>qe_i30</th><th>qe_i31</th><th>qe_i32</th><th>qe_i33</th><th>qe_i34</th><th>qe_i35</th><th>qe_i36</th><th>qe_i37</th><th>qe_i38</th><th>qe_i39</th><th>qe_i40</th><th>qe_i41</th><th>qe_i42</th><th>qe_i43</th><th>qe_i44</th><th>qe_i45</th><th>qe_i46</th><th>qe_i47</th><th>qe_i48</th><th>qe_i49</th><th>qe_i50</th><th>qe_i51</th><th>qe_i52</th><th>qe_i53</th><th>qe_i54</th><th>qe_i55</th><th>qe_i56</th><th>qe_i57</th><th>qe_i58</th><th>qe_i59</th><th>qe_i60</th><th>qe_i61</th><th>qe_i62</th><th>qe_i63</th><th>qe_i64</th><th>qe_i65</th><th>qe_i66</th><th>qe_i67</th><th>qe_i68</th></tr></thead><tbody><tr><td>2022</td><td>58120</td><td>2</td><td>Bacharelado</td><td>1591</td><td>1600303</td><td>Educação Presencial</td><td>156</td><td>99</td><td>50.143</td><td>1.679</td><td>33.776</td><td>1.490</td><td>1.537</td><td>2</td><td>4.959</td><td>4.752</td><td>4.562</td><td>4.220</td><td>5.008</td><td>4.395</td><td>5.048</td><td>5.073</td><td>5.024</td><td>4.992</td><td>4.339</td><td>4.379</td><td>4.581</td><td>4.008</td><td>4.815</td><td>4.806</td><td>3.816</td><td>3.509</td><td>4.286</td><td>3.423</td><td>4.361</td><td>4.161</td><td>4.508</td><td>4.270</td><td>4.395</td><td>2.733</td><td>2.441</td><td>4.615</td><td>4.746</td><td>3.992</td><td>4.664</td><td>4.528</td><td>4.317</td><td>3.819</td><td>4.721</td><td>4.615</td><td>4.583</td><td>4.446</td><td>4.934</td><td>4.667</td><td>3.843</td><td>4.901</td></tr><tr><td>2022</td><td>18373</td><td>1</td><td>Bacharelado</td><td>5</td><td>2211001</td><td>Educação Presencial</td><td>124</td><td>64</td><td>64.173</td><td>4.094</td><td>49.964</td><td>3.703</td><td>3.801</td><td>4</td><td>5.111</td><td>4.944</td><td>4.611</td><td>4.278</td><td>5.183</td><td>5.371</td><td>5.197</td><td>5.141</td><td>5.141</td><td>4.944</td><td>4.437</td><td>4.577</td><td>4.757</td><td>4.362</td><td>4.843</td><td>5.197</td><td>4.806</td><td>4.603</td><td>4.814</td><td>4.559</td><td>4.282</td><td>3.871</td><td>4.535</td><td>5.015</td><td>5.286</td><td>3.968</td><td>3.517</td><td>5.243</td><td>5.056</td><td>4.845</td><td>5.070</td><td>4.972</td><td>4.928</td><td>4.736</td><td>5.139</td><td>4.934</td><td>4.667</td><td>5.183</td><td>4.053</td><td>5.000</td><td>4.463</td><td>4.859</td></tr><tr><td>2022</td><td>1386004</td><td>2</td><td>Bacharelado</td><td>2961</td><td>5102504</td><td>Educação Presencial</td><td>64</td><td>53</td><td>49.018</td><td>1.550</td><td>33.809</td><td>1.494</td><td>1.508</td><td>2</td><td>5.196</td><td>4.929</td><td>4.759</td><td>4.600</td><td>5.018</td><td>4.821</td><td>5.232</td><td>5.273</td><td>5.054</td><td>4.906</td><td>4.891</td><td>4.909</td><td>5.161</td><td>4.537</td><td>4.455</td><td>5.000</td><td>4.830</td><td>4.582</td><td>5.236</td><td>4.273</td><td>4.891</td><td>4.400</td><td>5.130</td><td>4.204</td><td>4.796</td><td>3.326</td><td>2.189</td><td>4.347</td><td>5.109</td><td>4.250</td><td>5.091</td><td>4.981</td><td>3.712</td><td>3.587</td><td>5.111</td><td>4.941</td><td>5.020</td><td>5.074</td><td>5.154</td><td>5.000</td><td>4.143</td><td>5.436</td></tr><tr><td>2022</td><td>1427754</td><td>103</td><td>Tecnológico</td><td>417</td><td>3550308</td><td>Educação a Distância</td><td>164</td><td>115</td><td>44.450</td><td>1.434</td><td>41.398</td><td>1.638</td><td>1.586</td><td>2</td><td>4.977</td><td>4.689</td><td>4.808</td><td>4.615</td><td>5.087</td><td>3.598</td><td>4.699</td><td>4.780</td><td>4.438</td><td>4.885</td><td>4.042</td><td>4.675</td><td>4.791</td><td>4.143</td><td>4.688</td><td>5.180</td><td>4.496</td><td>4.380</td><td>4.156</td><td>3.361</td><td>4.593</td><td>4.242</td><td>4.754</td><td>4.511</td><td>4.846</td><td>2.719</td><td>2.500</td><td>5.185</td><td>5.137</td><td>4.000</td><td>4.908</td><td>4.626</td><td>4.594</td><td>4.802</td><td>4.974</td><td>4.907</td><td>4.585</td><td>5.127</td><td>5.043</td><td>5.085</td><td>4.329</td><td>4.931</td></tr><tr><td>2022</td><td>19117</td><td>2</td><td>Bacharelado</td><td>222</td><td>3557105</td><td>Educação Presencial</td><td>115</td><td>102</td><td>52.192</td><td>1.914</td><td>36.369</td><td>1.832</td><td>1.852</td><td>2</td><td>5.162</td><td>4.829</td><td>4.743</td><td>4.469</td><td>5.070</td><td>5.052</td><td>5.132</td><td>5.130</td><td>5.096</td><td>5.027</td><td>4.789</td><td>4.737</td><td>5.139</td><td>4.591</td><td>4.757</td><td>5.070</td><td>4.708</td><td>4.982</td><td>4.938</td><td>4.234</td><td>4.904</td><td>4.487</td><td>5.043</td><td>5.351</td><td>5.089</td><td>3.281</td><td>2.337</td><td>5.114</td><td>4.851</td><td>4.809</td><td>5.113</td><td>4.965</td><td>5.246</td><td>4.061</td><td>5.374</td><td>5.157</td><td>5.037</td><td>4.759</td><td>5.412</td><td>5.044</td><td>4.380</td><td>5.330</td></tr></tbody></table></div>"
      ]
     },
     "metadata": {
      "application/vnd.databricks.v1+output": {
       "addedWidgets": {},
       "aggData": [],
       "aggError": "",
       "aggOverflow": false,
       "aggSchema": [],
       "aggSeriesLimitReached": false,
       "aggType": "",
       "arguments": {},
       "columnCustomDisplayInfos": {},
       "data": [
        [
         2022,
         58120,
         2,
         "Bacharelado",
         1591,
         1600303,
         "Educação Presencial",
         156,
         99,
         "50.143",
         "1.679",
         "33.776",
         "1.490",
         "1.537",
         2,
         "4.959",
         "4.752",
         "4.562",
         "4.220",
         "5.008",
         "4.395",
         "5.048",
         "5.073",
         "5.024",
         "4.992",
         "4.339",
         "4.379",
         "4.581",
         "4.008",
         "4.815",
         "4.806",
         "3.816",
         "3.509",
         "4.286",
         "3.423",
         "4.361",
         "4.161",
         "4.508",
         "4.270",
         "4.395",
         "2.733",
         "2.441",
         "4.615",
         "4.746",
         "3.992",
         "4.664",
         "4.528",
         "4.317",
         "3.819",
         "4.721",
         "4.615",
         "4.583",
         "4.446",
         "4.934",
         "4.667",
         "3.843",
         "4.901"
        ],
        [
         2022,
         18373,
         1,
         "Bacharelado",
         5,
         2211001,
         "Educação Presencial",
         124,
         64,
         "64.173",
         "4.094",
         "49.964",
         "3.703",
         "3.801",
         4,
         "5.111",
         "4.944",
         "4.611",
         "4.278",
         "5.183",
         "5.371",
         "5.197",
         "5.141",
         "5.141",
         "4.944",
         "4.437",
         "4.577",
         "4.757",
         "4.362",
         "4.843",
         "5.197",
         "4.806",
         "4.603",
         "4.814",
         "4.559",
         "4.282",
         "3.871",
         "4.535",
         "5.015",
         "5.286",
         "3.968",
         "3.517",
         "5.243",
         "5.056",
         "4.845",
         "5.070",
         "4.972",
         "4.928",
         "4.736",
         "5.139",
         "4.934",
         "4.667",
         "5.183",
         "4.053",
         "5.000",
         "4.463",
         "4.859"
        ],
        [
         2022,
         1386004,
         2,
         "Bacharelado",
         2961,
         5102504,
         "Educação Presencial",
         64,
         53,
         "49.018",
         "1.550",
         "33.809",
         "1.494",
         "1.508",
         2,
         "5.196",
         "4.929",
         "4.759",
         "4.600",
         "5.018",
         "4.821",
         "5.232",
         "5.273",
         "5.054",
         "4.906",
         "4.891",
         "4.909",
         "5.161",
         "4.537",
         "4.455",
         "5.000",
         "4.830",
         "4.582",
         "5.236",
         "4.273",
         "4.891",
         "4.400",
         "5.130",
         "4.204",
         "4.796",
         "3.326",
         "2.189",
         "4.347",
         "5.109",
         "4.250",
         "5.091",
         "4.981",
         "3.712",
         "3.587",
         "5.111",
         "4.941",
         "5.020",
         "5.074",
         "5.154",
         "5.000",
         "4.143",
         "5.436"
        ],
        [
         2022,
         1427754,
         103,
         "Tecnológico",
         417,
         3550308,
         "Educação a Distância",
         164,
         115,
         "44.450",
         "1.434",
         "41.398",
         "1.638",
         "1.586",
         2,
         "4.977",
         "4.689",
         "4.808",
         "4.615",
         "5.087",
         "3.598",
         "4.699",
         "4.780",
         "4.438",
         "4.885",
         "4.042",
         "4.675",
         "4.791",
         "4.143",
         "4.688",
         "5.180",
         "4.496",
         "4.380",
         "4.156",
         "3.361",
         "4.593",
         "4.242",
         "4.754",
         "4.511",
         "4.846",
         "2.719",
         "2.500",
         "5.185",
         "5.137",
         "4.000",
         "4.908",
         "4.626",
         "4.594",
         "4.802",
         "4.974",
         "4.907",
         "4.585",
         "5.127",
         "5.043",
         "5.085",
         "4.329",
         "4.931"
        ],
        [
         2022,
         19117,
         2,
         "Bacharelado",
         222,
         3557105,
         "Educação Presencial",
         115,
         102,
         "52.192",
         "1.914",
         "36.369",
         "1.832",
         "1.852",
         2,
         "5.162",
         "4.829",
         "4.743",
         "4.469",
         "5.070",
         "5.052",
         "5.132",
         "5.130",
         "5.096",
         "5.027",
         "4.789",
         "4.737",
         "5.139",
         "4.591",
         "4.757",
         "5.070",
         "4.708",
         "4.982",
         "4.938",
         "4.234",
         "4.904",
         "4.487",
         "5.043",
         "5.351",
         "5.089",
         "3.281",
         "2.337",
         "5.114",
         "4.851",
         "4.809",
         "5.113",
         "4.965",
         "5.246",
         "4.061",
         "5.374",
         "5.157",
         "5.037",
         "4.759",
         "5.412",
         "5.044",
         "4.380",
         "5.330"
        ]
       ],
       "datasetInfos": [],
       "dbfsResultPath": null,
       "isJsonSchema": true,
       "metadata": {
        "dataframeName": "_sqldf",
        "executionCount": 2
       },
       "overflow": false,
       "plotOptions": {
        "customPlotOptions": {},
        "displayType": "table",
        "pivotAggregation": null,
        "pivotColumns": null,
        "xColumns": null,
        "yColumns": null
       },
       "removedWidgets": [],
       "schema": [
        {
         "metadata": "{}",
         "name": "ano",
         "type": "\"integer\""
        },
        {
         "metadata": "{}",
         "name": "codigo_do_curso",
         "type": "\"integer\""
        },
        {
         "metadata": "{}",
         "name": "codigo_da_area",
         "type": "\"integer\""
        },
        {
         "metadata": "{}",
         "name": "grau_academico",
         "type": "\"string\""
        },
        {
         "metadata": "{}",
         "name": "codigo_da_ies",
         "type": "\"integer\""
        },
        {
         "metadata": "{}",
         "name": "codigo_do_municipio",
         "type": "\"integer\""
        },
        {
         "metadata": "{}",
         "name": "modalidade_de_ensino",
         "type": "\"string\""
        },
        {
         "metadata": "{}",
         "name": "no_de_concluintes_inscritos",
         "type": "\"integer\""
        },
        {
         "metadata": "{}",
         "name": "no_de_concluintes_participantes",
         "type": "\"integer\""
        },
        {
         "metadata": "{}",
         "name": "nota_bruta_fg",
         "type": "\"decimal(10,3)\""
        },
        {
         "metadata": "{}",
         "name": "nota_padronizada_fg",
         "type": "\"decimal(10,3)\""
        },
        {
         "metadata": "{}",
         "name": "nota_bruta_ce",
         "type": "\"decimal(10,3)\""
        },
        {
         "metadata": "{}",
         "name": "nota_padronizada_ce",
         "type": "\"decimal(10,3)\""
        },
        {
         "metadata": "{}",
         "name": "conceito_enade_continuo",
         "type": "\"decimal(10,3)\""
        },
        {
         "metadata": "{}",
         "name": "conceito_enade_faixa",
         "type": "\"integer\""
        },
        {
         "metadata": "{}",
         "name": "qe_i27",
         "type": "\"decimal(10,3)\""
        },
        {
         "metadata": "{}",
         "name": "qe_i28",
         "type": "\"decimal(10,3)\""
        },
        {
         "metadata": "{}",
         "name": "qe_i29",
         "type": "\"decimal(10,3)\""
        },
        {
         "metadata": "{}",
         "name": "qe_i30",
         "type": "\"decimal(10,3)\""
        },
        {
         "metadata": "{}",
         "name": "qe_i31",
         "type": "\"decimal(10,3)\""
        },
        {
         "metadata": "{}",
         "name": "qe_i32",
         "type": "\"decimal(10,3)\""
        },
        {
         "metadata": "{}",
         "name": "qe_i33",
         "type": "\"decimal(10,3)\""
        },
        {
         "metadata": "{}",
         "name": "qe_i34",
         "type": "\"decimal(10,3)\""
        },
        {
         "metadata": "{}",
         "name": "qe_i35",
         "type": "\"decimal(10,3)\""
        },
        {
         "metadata": "{}",
         "name": "qe_i36",
         "type": "\"decimal(10,3)\""
        },
        {
         "metadata": "{}",
         "name": "qe_i37",
         "type": "\"decimal(10,3)\""
        },
        {
         "metadata": "{}",
         "name": "qe_i38",
         "type": "\"decimal(10,3)\""
        },
        {
         "metadata": "{}",
         "name": "qe_i39",
         "type": "\"decimal(10,3)\""
        },
        {
         "metadata": "{}",
         "name": "qe_i40",
         "type": "\"decimal(10,3)\""
        },
        {
         "metadata": "{}",
         "name": "qe_i41",
         "type": "\"decimal(10,3)\""
        },
        {
         "metadata": "{}",
         "name": "qe_i42",
         "type": "\"decimal(10,3)\""
        },
        {
         "metadata": "{}",
         "name": "qe_i43",
         "type": "\"decimal(10,3)\""
        },
        {
         "metadata": "{}",
         "name": "qe_i44",
         "type": "\"decimal(10,3)\""
        },
        {
         "metadata": "{}",
         "name": "qe_i45",
         "type": "\"decimal(10,3)\""
        },
        {
         "metadata": "{}",
         "name": "qe_i46",
         "type": "\"decimal(10,3)\""
        },
        {
         "metadata": "{}",
         "name": "qe_i47",
         "type": "\"decimal(10,3)\""
        },
        {
         "metadata": "{}",
         "name": "qe_i48",
         "type": "\"decimal(10,3)\""
        },
        {
         "metadata": "{}",
         "name": "qe_i49",
         "type": "\"decimal(10,3)\""
        },
        {
         "metadata": "{}",
         "name": "qe_i50",
         "type": "\"decimal(10,3)\""
        },
        {
         "metadata": "{}",
         "name": "qe_i51",
         "type": "\"decimal(10,3)\""
        },
        {
         "metadata": "{}",
         "name": "qe_i52",
         "type": "\"decimal(10,3)\""
        },
        {
         "metadata": "{}",
         "name": "qe_i53",
         "type": "\"decimal(10,3)\""
        },
        {
         "metadata": "{}",
         "name": "qe_i54",
         "type": "\"decimal(10,3)\""
        },
        {
         "metadata": "{}",
         "name": "qe_i55",
         "type": "\"decimal(10,3)\""
        },
        {
         "metadata": "{}",
         "name": "qe_i56",
         "type": "\"decimal(10,3)\""
        },
        {
         "metadata": "{}",
         "name": "qe_i57",
         "type": "\"decimal(10,3)\""
        },
        {
         "metadata": "{}",
         "name": "qe_i58",
         "type": "\"decimal(10,3)\""
        },
        {
         "metadata": "{}",
         "name": "qe_i59",
         "type": "\"decimal(10,3)\""
        },
        {
         "metadata": "{}",
         "name": "qe_i60",
         "type": "\"decimal(10,3)\""
        },
        {
         "metadata": "{}",
         "name": "qe_i61",
         "type": "\"decimal(10,3)\""
        },
        {
         "metadata": "{}",
         "name": "qe_i62",
         "type": "\"decimal(10,3)\""
        },
        {
         "metadata": "{}",
         "name": "qe_i63",
         "type": "\"decimal(10,3)\""
        },
        {
         "metadata": "{}",
         "name": "qe_i64",
         "type": "\"decimal(10,3)\""
        },
        {
         "metadata": "{}",
         "name": "qe_i65",
         "type": "\"decimal(10,3)\""
        },
        {
         "metadata": "{}",
         "name": "qe_i66",
         "type": "\"decimal(10,3)\""
        },
        {
         "metadata": "{}",
         "name": "qe_i67",
         "type": "\"decimal(10,3)\""
        },
        {
         "metadata": "{}",
         "name": "qe_i68",
         "type": "\"decimal(10,3)\""
        }
       ],
       "type": "table"
      }
     },
     "output_type": "display_data"
    }
   ],
   "source": [
    "%sql\n",
    "SELECT\n",
    "  *\n",
    "FROM\n",
    "  curso\n",
    "LIMIT\n",
    "  5;"
   ]
  },
  {
   "cell_type": "code",
   "execution_count": null,
   "metadata": {
    "application/vnd.databricks.v1+cell": {
     "cellMetadata": {
      "byteLimit": 2048000,
      "implicitDf": true,
      "rowLimit": 10000
     },
     "inputWidgets": {},
     "nuid": "4f5d00a0-04cf-486b-bb33-c593fa4d51ca",
     "showTitle": false,
     "title": ""
    }
   },
   "outputs": [
    {
     "data": {
      "text/html": [
       "<style scoped>\n",
       "  .table-result-container {\n",
       "    max-height: 300px;\n",
       "    overflow: auto;\n",
       "  }\n",
       "  table, th, td {\n",
       "    border: 1px solid black;\n",
       "    border-collapse: collapse;\n",
       "  }\n",
       "  th, td {\n",
       "    padding: 5px;\n",
       "  }\n",
       "  th {\n",
       "    text-align: left;\n",
       "  }\n",
       "</style><div class='table-result-container'><table class='table-result'><thead style='background-color: white'><tr><th>codigo_da_ies</th><th>nome_da_ies</th><th>sigla_da_ies</th><th>organizacao_academica</th><th>categoria_administrativa</th></tr></thead><tbody><tr><td>1842</td><td>FACULDADES INTEGRADAS MACHADO DE ASSIS</td><td>FEMA</td><td>Faculdade</td><td>Privada sem fins lucrativos</td></tr><tr><td>533</td><td>FACULDADES INTEGRADAS DE ITAPETININGA</td><td>FII</td><td>Faculdade</td><td>Privada sem fins lucrativos</td></tr><tr><td>793</td><td>Centro Universitário Estácio de São Paulo</td><td>ESTÁCIO SÃO PAULO</td><td>Centro Universitário</td><td>Privada com fins lucrativos</td></tr><tr><td>1542</td><td>CENTRO UNIVERSITÁRIO GERALDO DI BIASE</td><td>UGB</td><td>Centro Universitário</td><td>Privada sem fins lucrativos</td></tr><tr><td>1913</td><td>CENTRO UNIVERSITÁRIO FAMINAS</td><td>UNIFAMINAS</td><td>Centro Universitário</td><td>Privada com fins lucrativos</td></tr></tbody></table></div>"
      ]
     },
     "metadata": {
      "application/vnd.databricks.v1+output": {
       "addedWidgets": {},
       "aggData": [],
       "aggError": "",
       "aggOverflow": false,
       "aggSchema": [],
       "aggSeriesLimitReached": false,
       "aggType": "",
       "arguments": {},
       "columnCustomDisplayInfos": {},
       "data": [
        [
         1842,
         "FACULDADES INTEGRADAS MACHADO DE ASSIS",
         "FEMA",
         "Faculdade",
         "Privada sem fins lucrativos"
        ],
        [
         533,
         "FACULDADES INTEGRADAS DE ITAPETININGA",
         "FII",
         "Faculdade",
         "Privada sem fins lucrativos"
        ],
        [
         793,
         "Centro Universitário Estácio de São Paulo",
         "ESTÁCIO SÃO PAULO",
         "Centro Universitário",
         "Privada com fins lucrativos"
        ],
        [
         1542,
         "CENTRO UNIVERSITÁRIO GERALDO DI BIASE",
         "UGB",
         "Centro Universitário",
         "Privada sem fins lucrativos"
        ],
        [
         1913,
         "CENTRO UNIVERSITÁRIO FAMINAS",
         "UNIFAMINAS",
         "Centro Universitário",
         "Privada com fins lucrativos"
        ]
       ],
       "datasetInfos": [],
       "dbfsResultPath": null,
       "isJsonSchema": true,
       "metadata": {
        "dataframeName": "_sqldf",
        "executionCount": 3
       },
       "overflow": false,
       "plotOptions": {
        "customPlotOptions": {},
        "displayType": "table",
        "pivotAggregation": null,
        "pivotColumns": null,
        "xColumns": null,
        "yColumns": null
       },
       "removedWidgets": [],
       "schema": [
        {
         "metadata": "{}",
         "name": "codigo_da_ies",
         "type": "\"integer\""
        },
        {
         "metadata": "{}",
         "name": "nome_da_ies",
         "type": "\"string\""
        },
        {
         "metadata": "{}",
         "name": "sigla_da_ies",
         "type": "\"string\""
        },
        {
         "metadata": "{}",
         "name": "organizacao_academica",
         "type": "\"string\""
        },
        {
         "metadata": "{}",
         "name": "categoria_administrativa",
         "type": "\"string\""
        }
       ],
       "type": "table"
      }
     },
     "output_type": "display_data"
    }
   ],
   "source": [
    "%sql\n",
    "SELECT\n",
    "  *\n",
    "FROM\n",
    "  ies\n",
    "LIMIT\n",
    "  5;"
   ]
  },
  {
   "cell_type": "code",
   "execution_count": null,
   "metadata": {
    "application/vnd.databricks.v1+cell": {
     "cellMetadata": {
      "byteLimit": 2048000,
      "implicitDf": true,
      "rowLimit": 10000
     },
     "inputWidgets": {},
     "nuid": "be0b7ddf-d93a-4604-b5ad-55e8fef1f3c9",
     "showTitle": false,
     "title": ""
    }
   },
   "outputs": [
    {
     "data": {
      "text/html": [
       "<style scoped>\n",
       "  .table-result-container {\n",
       "    max-height: 300px;\n",
       "    overflow: auto;\n",
       "  }\n",
       "  table, th, td {\n",
       "    border: 1px solid black;\n",
       "    border-collapse: collapse;\n",
       "  }\n",
       "  th, td {\n",
       "    padding: 5px;\n",
       "  }\n",
       "  th {\n",
       "    text-align: left;\n",
       "  }\n",
       "</style><div class='table-result-container'><table class='table-result'><thead style='background-color: white'><tr><th>codigo_do_municipio</th><th>municipio_do_curso</th></tr></thead><tbody><tr><td>4321204</td><td>Taquara</td></tr><tr><td>3514403</td><td>Dracena</td></tr><tr><td>3140902</td><td>Matipó</td></tr><tr><td>3303401</td><td>Nova Friburgo</td></tr><tr><td>3147105</td><td>Pará de Minas</td></tr></tbody></table></div>"
      ]
     },
     "metadata": {
      "application/vnd.databricks.v1+output": {
       "addedWidgets": {},
       "aggData": [],
       "aggError": "",
       "aggOverflow": false,
       "aggSchema": [],
       "aggSeriesLimitReached": false,
       "aggType": "",
       "arguments": {},
       "columnCustomDisplayInfos": {},
       "data": [
        [
         4321204,
         "Taquara"
        ],
        [
         3514403,
         "Dracena"
        ],
        [
         3140902,
         "Matipó"
        ],
        [
         3303401,
         "Nova Friburgo"
        ],
        [
         3147105,
         "Pará de Minas"
        ]
       ],
       "datasetInfos": [],
       "dbfsResultPath": null,
       "isJsonSchema": true,
       "metadata": {
        "dataframeName": "_sqldf",
        "executionCount": 4
       },
       "overflow": false,
       "plotOptions": {
        "customPlotOptions": {},
        "displayType": "table",
        "pivotAggregation": null,
        "pivotColumns": null,
        "xColumns": null,
        "yColumns": null
       },
       "removedWidgets": [],
       "schema": [
        {
         "metadata": "{}",
         "name": "codigo_do_municipio",
         "type": "\"integer\""
        },
        {
         "metadata": "{}",
         "name": "municipio_do_curso",
         "type": "\"string\""
        }
       ],
       "type": "table"
      }
     },
     "output_type": "display_data"
    }
   ],
   "source": [
    "%sql\n",
    "SELECT\n",
    "  *\n",
    "FROM\n",
    "  municipio\n",
    "LIMIT\n",
    "  5;"
   ]
  },
  {
   "cell_type": "code",
   "execution_count": null,
   "metadata": {
    "application/vnd.databricks.v1+cell": {
     "cellMetadata": {
      "byteLimit": 2048000,
      "implicitDf": true,
      "rowLimit": 10000
     },
     "inputWidgets": {},
     "nuid": "550100e0-b0ce-4de7-9714-4997997437b2",
     "showTitle": false,
     "title": ""
    }
   },
   "outputs": [
    {
     "data": {
      "text/html": [
       "<style scoped>\n",
       "  .table-result-container {\n",
       "    max-height: 300px;\n",
       "    overflow: auto;\n",
       "  }\n",
       "  table, th, td {\n",
       "    border: 1px solid black;\n",
       "    border-collapse: collapse;\n",
       "  }\n",
       "  th, td {\n",
       "    padding: 5px;\n",
       "  }\n",
       "  th {\n",
       "    text-align: left;\n",
       "  }\n",
       "</style><div class='table-result-container'><table class='table-result'><thead style='background-color: white'><tr><th>codigo_da_area</th><th>area_de_avaliacao</th></tr></thead><tbody><tr><td>83</td><td>TECNOLOGIA EM DESIGN DE MODA</td></tr><tr><td>29</td><td>TURISMO</td></tr><tr><td>87</td><td>TECNOLOGIA EM GESTÃO FINANCEIRA</td></tr><tr><td>93</td><td>TECNOLOGIA EM GESTÃO COMERCIAL</td></tr><tr><td>804</td><td>PUBLICIDADE E PROPAGANDA</td></tr></tbody></table></div>"
      ]
     },
     "metadata": {
      "application/vnd.databricks.v1+output": {
       "addedWidgets": {},
       "aggData": [],
       "aggError": "",
       "aggOverflow": false,
       "aggSchema": [],
       "aggSeriesLimitReached": false,
       "aggType": "",
       "arguments": {},
       "columnCustomDisplayInfos": {},
       "data": [
        [
         83,
         "TECNOLOGIA EM DESIGN DE MODA"
        ],
        [
         29,
         "TURISMO"
        ],
        [
         87,
         "TECNOLOGIA EM GESTÃO FINANCEIRA"
        ],
        [
         93,
         "TECNOLOGIA EM GESTÃO COMERCIAL"
        ],
        [
         804,
         "PUBLICIDADE E PROPAGANDA"
        ]
       ],
       "datasetInfos": [],
       "dbfsResultPath": null,
       "isJsonSchema": true,
       "metadata": {
        "dataframeName": "_sqldf",
        "executionCount": 5
       },
       "overflow": false,
       "plotOptions": {
        "customPlotOptions": {},
        "displayType": "table",
        "pivotAggregation": null,
        "pivotColumns": null,
        "xColumns": null,
        "yColumns": null
       },
       "removedWidgets": [],
       "schema": [
        {
         "metadata": "{}",
         "name": "codigo_da_area",
         "type": "\"integer\""
        },
        {
         "metadata": "{}",
         "name": "area_de_avaliacao",
         "type": "\"string\""
        }
       ],
       "type": "table"
      }
     },
     "output_type": "display_data"
    }
   ],
   "source": [
    "%sql\n",
    "SELECT\n",
    "  *\n",
    "FROM\n",
    "  area\n",
    "LIMIT\n",
    "  5;"
   ]
  },
  {
   "cell_type": "markdown",
   "metadata": {
    "application/vnd.databricks.v1+cell": {
     "cellMetadata": {},
     "inputWidgets": {},
     "nuid": "f91e96af-e513-4e6e-935e-d16bcc26b45f",
     "showTitle": false,
     "title": ""
    }
   },
   "source": [
    "# Data Quality"
   ]
  },
  {
   "cell_type": "markdown",
   "metadata": {
    "application/vnd.databricks.v1+cell": {
     "cellMetadata": {},
     "inputWidgets": {},
     "nuid": "881b1e0f-2240-432c-a4a0-ebe3991932e9",
     "showTitle": false,
     "title": ""
    }
   },
   "source": [
    "For this analysis, the most important thing is to garantee the range of the enade grade (from 0 to 5) and the range of the student questionnaire responses (from 1 to 6)"
   ]
  },
  {
   "cell_type": "code",
   "execution_count": null,
   "metadata": {
    "application/vnd.databricks.v1+cell": {
     "cellMetadata": {
      "byteLimit": 2048000,
      "implicitDf": true,
      "rowLimit": 10000
     },
     "inputWidgets": {},
     "nuid": "62dd3ad6-c0e0-4798-bf93-4fa962dae2da",
     "showTitle": false,
     "title": ""
    }
   },
   "outputs": [
    {
     "data": {
      "text/html": [
       "<style scoped>\n",
       "  .table-result-container {\n",
       "    max-height: 300px;\n",
       "    overflow: auto;\n",
       "  }\n",
       "  table, th, td {\n",
       "    border: 1px solid black;\n",
       "    border-collapse: collapse;\n",
       "  }\n",
       "  th, td {\n",
       "    padding: 5px;\n",
       "  }\n",
       "  th {\n",
       "    text-align: left;\n",
       "  }\n",
       "</style><div class='table-result-container'><table class='table-result'><thead style='background-color: white'><tr><th>max_enade</th><th>min_enade</th></tr></thead><tbody><tr><td>5.000</td><td>0.000</td></tr></tbody></table></div>"
      ]
     },
     "metadata": {
      "application/vnd.databricks.v1+output": {
       "addedWidgets": {},
       "aggData": [],
       "aggError": "",
       "aggOverflow": false,
       "aggSchema": [],
       "aggSeriesLimitReached": false,
       "aggType": "",
       "arguments": {},
       "columnCustomDisplayInfos": {},
       "data": [
        [
         "5.000",
         "0.000"
        ]
       ],
       "datasetInfos": [],
       "dbfsResultPath": null,
       "isJsonSchema": true,
       "metadata": {
        "dataframeName": "_sqldf",
        "executionCount": 2
       },
       "overflow": false,
       "plotOptions": {
        "customPlotOptions": {},
        "displayType": "table",
        "pivotAggregation": null,
        "pivotColumns": null,
        "xColumns": null,
        "yColumns": null
       },
       "removedWidgets": [],
       "schema": [
        {
         "metadata": "{}",
         "name": "max_enade",
         "type": "\"decimal(10,3)\""
        },
        {
         "metadata": "{}",
         "name": "min_enade",
         "type": "\"decimal(10,3)\""
        }
       ],
       "type": "table"
      }
     },
     "output_type": "display_data"
    }
   ],
   "source": [
    "%sql\n",
    "SELECT MAX(conceito_enade_continuo) AS max_enade, min(conceito_enade_continuo) as min_enade FROM curso;"
   ]
  },
  {
   "cell_type": "code",
   "execution_count": null,
   "metadata": {
    "application/vnd.databricks.v1+cell": {
     "cellMetadata": {
      "byteLimit": 2048000,
      "implicitDf": true,
      "rowLimit": 10000
     },
     "inputWidgets": {},
     "nuid": "2e1f2fdd-c154-48fc-b511-f181df4e6ac4",
     "showTitle": false,
     "title": ""
    }
   },
   "outputs": [
    {
     "data": {
      "text/html": [
       "<style scoped>\n",
       "  .table-result-container {\n",
       "    max-height: 300px;\n",
       "    overflow: auto;\n",
       "  }\n",
       "  table, th, td {\n",
       "    border: 1px solid black;\n",
       "    border-collapse: collapse;\n",
       "  }\n",
       "  th, td {\n",
       "    padding: 5px;\n",
       "  }\n",
       "  th {\n",
       "    text-align: left;\n",
       "  }\n",
       "</style><div class='table-result-container'><table class='table-result'><thead style='background-color: white'><tr><th>max_value</th><th>min_value</th></tr></thead><tbody><tr><td>6.000</td><td>1.000</td></tr></tbody></table></div>"
      ]
     },
     "metadata": {
      "application/vnd.databricks.v1+output": {
       "addedWidgets": {},
       "aggData": [],
       "aggError": "",
       "aggOverflow": false,
       "aggSchema": [],
       "aggSeriesLimitReached": false,
       "aggType": "",
       "arguments": {},
       "columnCustomDisplayInfos": {},
       "data": [
        [
         "6.000",
         "1.000"
        ]
       ],
       "datasetInfos": [],
       "dbfsResultPath": null,
       "isJsonSchema": true,
       "metadata": {
        "dataframeName": "_sqldf",
        "executionCount": 5
       },
       "overflow": false,
       "plotOptions": {
        "customPlotOptions": {},
        "displayType": "table",
        "pivotAggregation": null,
        "pivotColumns": null,
        "xColumns": null,
        "yColumns": null
       },
       "removedWidgets": [],
       "schema": [
        {
         "metadata": "{}",
         "name": "max_value",
         "type": "\"decimal(10,3)\""
        },
        {
         "metadata": "{}",
         "name": "min_value",
         "type": "\"decimal(10,3)\""
        }
       ],
       "type": "table"
      }
     },
     "output_type": "display_data"
    }
   ],
   "source": [
    "%sql\n",
    "SELECT \n",
    "    GREATEST(\n",
    "        MAX(qe_i27),\n",
    "        MAX(qe_i28),\n",
    "        MAX(qe_i29),\n",
    "        MAX(qe_i30),\n",
    "        MAX(qe_i31),\n",
    "        MAX(qe_i32),\n",
    "        MAX(qe_i33),\n",
    "        MAX(qe_i34),\n",
    "        MAX(qe_i35),\n",
    "        MAX(qe_i36),\n",
    "        MAX(qe_i37),\n",
    "        MAX(qe_i38),\n",
    "        MAX(qe_i39),\n",
    "        MAX(qe_i40),\n",
    "        MAX(qe_i41),\n",
    "        MAX(qe_i42),\n",
    "        MAX(qe_i43),\n",
    "        MAX(qe_i44),\n",
    "        MAX(qe_i45),\n",
    "        MAX(qe_i46),\n",
    "        MAX(qe_i47),\n",
    "        MAX(qe_i48),\n",
    "        MAX(qe_i49),\n",
    "        MAX(qe_i50),\n",
    "        MAX(qe_i51),\n",
    "        MAX(qe_i52),\n",
    "        MAX(qe_i53),\n",
    "        MAX(qe_i54),\n",
    "        MAX(qe_i55),\n",
    "        MAX(qe_i56),\n",
    "        MAX(qe_i57),\n",
    "        MAX(qe_i58),\n",
    "        MAX(qe_i59),\n",
    "        MAX(qe_i60),\n",
    "        MAX(qe_i61),\n",
    "        MAX(qe_i62),\n",
    "        MAX(qe_i63),\n",
    "        MAX(qe_i64),\n",
    "        MAX(qe_i65),\n",
    "        MAX(qe_i66),\n",
    "        MAX(qe_i67),\n",
    "        MAX(qe_i68)\n",
    "    ) AS max_value,\n",
    "    LEAST(\n",
    "        MIN(qe_i27),\n",
    "        MIN(qe_i28),\n",
    "        MIN(qe_i29),\n",
    "        MIN(qe_i30),\n",
    "        MIN(qe_i31),\n",
    "        MIN(qe_i32),\n",
    "        MIN(qe_i33),\n",
    "        MIN(qe_i34),\n",
    "        MIN(qe_i35),\n",
    "        MIN(qe_i36),\n",
    "        MIN(qe_i37),\n",
    "        MIN(qe_i38),\n",
    "        MIN(qe_i39),\n",
    "        MIN(qe_i40),\n",
    "        MIN(qe_i41),\n",
    "        MIN(qe_i42),\n",
    "        MIN(qe_i43),\n",
    "        MIN(qe_i44),\n",
    "        MIN(qe_i45),\n",
    "        MIN(qe_i46),\n",
    "        MIN(qe_i47),\n",
    "        MIN(qe_i48),\n",
    "        MIN(qe_i49),\n",
    "        MIN(qe_i50),\n",
    "        MIN(qe_i51),\n",
    "        MIN(qe_i52),\n",
    "        MIN(qe_i53),\n",
    "        MIN(qe_i54),\n",
    "        MIN(qe_i55),\n",
    "        MIN(qe_i56),\n",
    "        MIN(qe_i57),\n",
    "        MIN(qe_i58),\n",
    "        MIN(qe_i59),\n",
    "        MIN(qe_i60),\n",
    "        MIN(qe_i61),\n",
    "        MIN(qe_i62),\n",
    "        MIN(qe_i63),\n",
    "        MIN(qe_i64),\n",
    "        MIN(qe_i65),\n",
    "        MIN(qe_i66),\n",
    "        MIN(qe_i67),\n",
    "        MIN(qe_i68)\n",
    "    ) AS min_value\n",
    "FROM curso;\n",
    "\n"
   ]
  },
  {
   "cell_type": "markdown",
   "metadata": {
    "application/vnd.databricks.v1+cell": {
     "cellMetadata": {},
     "inputWidgets": {},
     "nuid": "5d29e801-4502-4404-a13b-3df4e0db5117",
     "showTitle": false,
     "title": ""
    }
   },
   "source": [
    "All the ranges were guaranteed"
   ]
  },
  {
   "cell_type": "markdown",
   "metadata": {
    "application/vnd.databricks.v1+cell": {
     "cellMetadata": {},
     "inputWidgets": {},
     "nuid": "bc1e27be-091d-4ebe-860b-9484768a729c",
     "showTitle": false,
     "title": ""
    }
   },
   "source": [
    "# Private vs Public"
   ]
  },
  {
   "cell_type": "markdown",
   "metadata": {
    "application/vnd.databricks.v1+cell": {
     "cellMetadata": {},
     "inputWidgets": {},
     "nuid": "2b226e3a-aef6-4a3d-82e9-251fc2b8e32f",
     "showTitle": false,
     "title": ""
    }
   },
   "source": [
    "First, let's check all the divisions to separate what are the private and public categories."
   ]
  },
  {
   "cell_type": "code",
   "execution_count": null,
   "metadata": {
    "application/vnd.databricks.v1+cell": {
     "cellMetadata": {
      "byteLimit": 2048000,
      "implicitDf": true,
      "rowLimit": 10000
     },
     "inputWidgets": {},
     "nuid": "c3116ba6-8586-4a40-9fd2-45425bf9f61d",
     "showTitle": false,
     "title": ""
    }
   },
   "outputs": [
    {
     "data": {
      "text/html": [
       "<style scoped>\n",
       "  .table-result-container {\n",
       "    max-height: 300px;\n",
       "    overflow: auto;\n",
       "  }\n",
       "  table, th, td {\n",
       "    border: 1px solid black;\n",
       "    border-collapse: collapse;\n",
       "  }\n",
       "  th, td {\n",
       "    padding: 5px;\n",
       "  }\n",
       "  th {\n",
       "    text-align: left;\n",
       "  }\n",
       "</style><div class='table-result-container'><table class='table-result'><thead style='background-color: white'><tr><th>categoria_administrativa</th></tr></thead><tbody><tr><td>Especial</td></tr><tr><td>Pública Federal</td></tr><tr><td>Privada com fins lucrativos</td></tr><tr><td>Pública Estadual</td></tr><tr><td>Pública Municipal</td></tr><tr><td>Privada sem fins lucrativos</td></tr></tbody></table></div>"
      ]
     },
     "metadata": {
      "application/vnd.databricks.v1+output": {
       "addedWidgets": {},
       "aggData": [],
       "aggError": "",
       "aggOverflow": false,
       "aggSchema": [],
       "aggSeriesLimitReached": false,
       "aggType": "",
       "arguments": {},
       "columnCustomDisplayInfos": {},
       "data": [
        [
         "Especial"
        ],
        [
         "Pública Federal"
        ],
        [
         "Privada com fins lucrativos"
        ],
        [
         "Pública Estadual"
        ],
        [
         "Pública Municipal"
        ],
        [
         "Privada sem fins lucrativos"
        ]
       ],
       "datasetInfos": [],
       "dbfsResultPath": null,
       "isJsonSchema": true,
       "metadata": {
        "dataframeName": "_sqldf",
        "executionCount": 6
       },
       "overflow": false,
       "plotOptions": {
        "customPlotOptions": {},
        "displayType": "table",
        "pivotAggregation": null,
        "pivotColumns": null,
        "xColumns": null,
        "yColumns": null
       },
       "removedWidgets": [],
       "schema": [
        {
         "metadata": "{}",
         "name": "categoria_administrativa",
         "type": "\"string\""
        }
       ],
       "type": "table"
      }
     },
     "output_type": "display_data"
    }
   ],
   "source": [
    "%sql\n",
    "SELECT\n",
    "  DISTINCT(categoria_administrativa)\n",
    "FROM\n",
    "  ies;"
   ]
  },
  {
   "cell_type": "markdown",
   "metadata": {
    "application/vnd.databricks.v1+cell": {
     "cellMetadata": {},
     "inputWidgets": {},
     "nuid": "84dea5c2-4ee5-4832-b570-28442e8dc180",
     "showTitle": false,
     "title": ""
    }
   },
   "source": [
    "So the privite categories are \"Privada com fins lucrativos\" and \"Privada sem fins lucrativos\". The public are \"Pública Estadual\", \"Pública Municipal\" and \"Pública Federal\". Lets see the mean of the enade evaluation for each division. The division \"Especial\" are schools that are created by the government but are not fully maintained by public funds (not free). They are a gray area so they will not enter the analysis."
   ]
  },
  {
   "cell_type": "code",
   "execution_count": null,
   "metadata": {
    "application/vnd.databricks.v1+cell": {
     "cellMetadata": {
      "byteLimit": 2048000,
      "implicitDf": true,
      "rowLimit": 10000
     },
     "inputWidgets": {},
     "nuid": "041c1470-3546-48cc-8fa8-b799355fc515",
     "showTitle": false,
     "title": ""
    }
   },
   "outputs": [
    {
     "data": {
      "text/html": [
       "<style scoped>\n",
       "  .table-result-container {\n",
       "    max-height: 300px;\n",
       "    overflow: auto;\n",
       "  }\n",
       "  table, th, td {\n",
       "    border: 1px solid black;\n",
       "    border-collapse: collapse;\n",
       "  }\n",
       "  th, td {\n",
       "    padding: 5px;\n",
       "  }\n",
       "  th {\n",
       "    text-align: left;\n",
       "  }\n",
       "</style><div class='table-result-container'><table class='table-result'><thead style='background-color: white'><tr><th>categoria_administrativa</th><th>mean_enade</th></tr></thead><tbody><tr><td>Pública Federal</td><td>3.2213432</td></tr><tr><td>Pública Estadual</td><td>2.9923041</td></tr><tr><td>Especial</td><td>2.6023913</td></tr><tr><td>Privada sem fins lucrativos</td><td>2.4798684</td></tr><tr><td>Pública Municipal</td><td>2.2561628</td></tr><tr><td>Privada com fins lucrativos</td><td>2.2168770</td></tr></tbody></table></div>"
      ]
     },
     "metadata": {
      "application/vnd.databricks.v1+output": {
       "addedWidgets": {},
       "aggData": [],
       "aggError": "",
       "aggOverflow": false,
       "aggSchema": [],
       "aggSeriesLimitReached": false,
       "aggType": "",
       "arguments": {},
       "columnCustomDisplayInfos": {},
       "data": [
        [
         "Pública Federal",
         "3.2213432"
        ],
        [
         "Pública Estadual",
         "2.9923041"
        ],
        [
         "Especial",
         "2.6023913"
        ],
        [
         "Privada sem fins lucrativos",
         "2.4798684"
        ],
        [
         "Pública Municipal",
         "2.2561628"
        ],
        [
         "Privada com fins lucrativos",
         "2.2168770"
        ]
       ],
       "datasetInfos": [],
       "dbfsResultPath": null,
       "isJsonSchema": true,
       "metadata": {
        "dataframeName": "_sqldf",
        "executionCount": 9
       },
       "overflow": false,
       "plotOptions": {
        "customPlotOptions": {},
        "displayType": "table",
        "pivotAggregation": null,
        "pivotColumns": null,
        "xColumns": null,
        "yColumns": null
       },
       "removedWidgets": [],
       "schema": [
        {
         "metadata": "{}",
         "name": "categoria_administrativa",
         "type": "\"string\""
        },
        {
         "metadata": "{}",
         "name": "mean_enade",
         "type": "\"decimal(14,7)\""
        }
       ],
       "type": "table"
      }
     },
     "output_type": "display_data"
    }
   ],
   "source": [
    "%sql\n",
    "SELECT\n",
    "  categoria_administrativa,\n",
    "  mean(conceito_enade_continuo) AS mean_enade\n",
    "FROM\n",
    "  curso\n",
    "  INNER JOIN ies ON curso.codigo_da_ies = ies.codigo_da_ies\n",
    "GROUP BY\n",
    "  categoria_administrativa\n",
    "ORDER BY\n",
    "  mean_enade DESC;"
   ]
  },
  {
   "cell_type": "code",
   "execution_count": null,
   "metadata": {
    "application/vnd.databricks.v1+cell": {
     "cellMetadata": {
      "byteLimit": 2048000,
      "implicitDf": true,
      "rowLimit": 10000
     },
     "inputWidgets": {},
     "nuid": "cdccf4f0-5919-452c-a5c7-8df8ce401d0b",
     "showTitle": false,
     "title": ""
    }
   },
   "outputs": [
    {
     "data": {
      "text/html": [
       "<style scoped>\n",
       "  .table-result-container {\n",
       "    max-height: 300px;\n",
       "    overflow: auto;\n",
       "  }\n",
       "  table, th, td {\n",
       "    border: 1px solid black;\n",
       "    border-collapse: collapse;\n",
       "  }\n",
       "  th, td {\n",
       "    padding: 5px;\n",
       "  }\n",
       "  th {\n",
       "    text-align: left;\n",
       "  }\n",
       "</style><div class='table-result-container'><table class='table-result'><thead style='background-color: white'><tr><th>categoria_simplificada</th><th>mean_enade</th></tr></thead><tbody><tr><td>Pública</td><td>3.0490647</td></tr><tr><td>Especial</td><td>2.6023913</td></tr><tr><td>Privada</td><td>2.3191591</td></tr></tbody></table></div>"
      ]
     },
     "metadata": {
      "application/vnd.databricks.v1+output": {
       "addedWidgets": {},
       "aggData": [],
       "aggError": "",
       "aggOverflow": false,
       "aggSchema": [],
       "aggSeriesLimitReached": false,
       "aggType": "",
       "arguments": {},
       "columnCustomDisplayInfos": {},
       "data": [
        [
         "Pública",
         "3.0490647"
        ],
        [
         "Especial",
         "2.6023913"
        ],
        [
         "Privada",
         "2.3191591"
        ]
       ],
       "datasetInfos": [],
       "dbfsResultPath": null,
       "isJsonSchema": true,
       "metadata": {
        "dataframeName": "_sqldf",
        "executionCount": 10
       },
       "overflow": false,
       "plotOptions": {
        "customPlotOptions": {},
        "displayType": "table",
        "pivotAggregation": null,
        "pivotColumns": null,
        "xColumns": null,
        "yColumns": null
       },
       "removedWidgets": [],
       "schema": [
        {
         "metadata": "{}",
         "name": "categoria_simplificada",
         "type": "\"string\""
        },
        {
         "metadata": "{}",
         "name": "mean_enade",
         "type": "\"decimal(14,7)\""
        }
       ],
       "type": "table"
      }
     },
     "output_type": "display_data"
    }
   ],
   "source": [
    "%sql\n",
    "SELECT\n",
    "  CASE\n",
    "    WHEN categoria_administrativa LIKE 'Pública%' THEN 'Pública'\n",
    "    WHEN categoria_administrativa LIKE 'Privada%' THEN 'Privada'\n",
    "    ELSE 'Especial'\n",
    "  END AS categoria_simplificada,\n",
    "  mean(conceito_enade_continuo) AS mean_enade\n",
    "FROM\n",
    "  curso\n",
    "  INNER JOIN ies ON curso.codigo_da_ies = ies.codigo_da_ies\n",
    "GROUP BY\n",
    "  categoria_simplificada\n",
    "ORDER BY\n",
    "  mean_enade DESC;"
   ]
  },
  {
   "cell_type": "markdown",
   "metadata": {
    "application/vnd.databricks.v1+cell": {
     "cellMetadata": {},
     "inputWidgets": {},
     "nuid": "7d9f8406-9ffd-4dd7-a52e-9cf30143d9ce",
     "showTitle": false,
     "title": ""
    }
   },
   "source": [
    "So it looks like the public universities out perform the privite one by a significant margin, even when looking case by case, there is only a single case where a private division out performs a public one. Let's analyse the student perception of these schools now."
   ]
  },
  {
   "cell_type": "markdown",
   "metadata": {
    "application/vnd.databricks.v1+cell": {
     "cellMetadata": {},
     "inputWidgets": {},
     "nuid": "556d7585-bf6d-4578-86b5-24a96d485d59",
     "showTitle": false,
     "title": ""
    }
   },
   "source": [
    "All the questions of this section of the student questionnaire are made with positive afirmations and the student selects a grade between 1 and 6 on how much he agrees on the afirmation, so the higher and the closer the grade is to 6, the better, in all questions. Also, these questions have their own division. Questions  27, 29, 30, 31, 33, 34, 35, 36, 37, 38, 39, 42, 49 and 56 are about Didactic-Pedagogical Organization; Questions 55, 58, 59, 60, 61, 62, 63, 64, 65, 66 and 68 are about Infrastructure and Physical Facilities; Questions 43, 44, 45, 46, 47, 52, 53 and 67 are about Opportunities for Academic and Professional Development.\n",
    "\n",
    "\n"
   ]
  },
  {
   "cell_type": "code",
   "execution_count": null,
   "metadata": {
    "application/vnd.databricks.v1+cell": {
     "cellMetadata": {
      "byteLimit": 2048000,
      "implicitDf": true,
      "rowLimit": 10000
     },
     "inputWidgets": {},
     "nuid": "dc3e61c1-d82d-4cc4-883f-c7e6dd02cdca",
     "showTitle": false,
     "title": ""
    }
   },
   "outputs": [
    {
     "data": {
      "text/html": [
       "<style scoped>\n",
       "  .table-result-container {\n",
       "    max-height: 300px;\n",
       "    overflow: auto;\n",
       "  }\n",
       "  table, th, td {\n",
       "    border: 1px solid black;\n",
       "    border-collapse: collapse;\n",
       "  }\n",
       "  th, td {\n",
       "    padding: 5px;\n",
       "  }\n",
       "  th {\n",
       "    text-align: left;\n",
       "  }\n",
       "</style><div class='table-result-container'><table class='table-result'><thead style='background-color: white'><tr><th>categoria_administrativa</th><th>pedagogical_org</th><th>infrastructure</th><th>opportunities</th><th>total_mean</th></tr></thead><tbody><tr><td>Especial</td><td>5.383</td><td>5.422</td><td>4.834</td><td>5.264</td></tr><tr><td>Privada sem fins lucrativos</td><td>5.345</td><td>5.330</td><td>4.698</td><td>5.183</td></tr><tr><td>Pública Municipal</td><td>5.318</td><td>5.168</td><td>4.697</td><td>5.109</td></tr><tr><td>Privada com fins lucrativos</td><td>5.222</td><td>5.164</td><td>4.405</td><td>5.001</td></tr><tr><td>Pública Federal</td><td>5.143</td><td>4.929</td><td>4.533</td><td>4.924</td></tr><tr><td>Pública Estadual</td><td>5.136</td><td>4.774</td><td>4.489</td><td>4.859</td></tr></tbody></table></div>"
      ]
     },
     "metadata": {
      "application/vnd.databricks.v1+output": {
       "addedWidgets": {},
       "aggData": [],
       "aggError": "",
       "aggOverflow": false,
       "aggSchema": [],
       "aggSeriesLimitReached": false,
       "aggType": "",
       "arguments": {},
       "columnCustomDisplayInfos": {},
       "data": [
        [
         "Especial",
         "5.383",
         "5.422",
         "4.834",
         "5.264"
        ],
        [
         "Privada sem fins lucrativos",
         "5.345",
         "5.330",
         "4.698",
         "5.183"
        ],
        [
         "Pública Municipal",
         "5.318",
         "5.168",
         "4.697",
         "5.109"
        ],
        [
         "Privada com fins lucrativos",
         "5.222",
         "5.164",
         "4.405",
         "5.001"
        ],
        [
         "Pública Federal",
         "5.143",
         "4.929",
         "4.533",
         "4.924"
        ],
        [
         "Pública Estadual",
         "5.136",
         "4.774",
         "4.489",
         "4.859"
        ]
       ],
       "datasetInfos": [],
       "dbfsResultPath": null,
       "isJsonSchema": true,
       "metadata": {
        "dataframeName": "_sqldf",
        "executionCount": 12
       },
       "overflow": false,
       "plotOptions": {
        "customPlotOptions": {},
        "displayType": "table",
        "pivotAggregation": null,
        "pivotColumns": null,
        "xColumns": null,
        "yColumns": null
       },
       "removedWidgets": [],
       "schema": [
        {
         "metadata": "{}",
         "name": "categoria_administrativa",
         "type": "\"string\""
        },
        {
         "metadata": "{}",
         "name": "pedagogical_org",
         "type": "\"decimal(10,3)\""
        },
        {
         "metadata": "{}",
         "name": "infrastructure",
         "type": "\"decimal(10,3)\""
        },
        {
         "metadata": "{}",
         "name": "opportunities",
         "type": "\"decimal(10,3)\""
        },
        {
         "metadata": "{}",
         "name": "total_mean",
         "type": "\"decimal(10,3)\""
        }
       ],
       "type": "table"
      }
     },
     "output_type": "display_data"
    }
   ],
   "source": [
    "%sql\n",
    "SELECT\n",
    "  categoria_administrativa,\n",
    "  mean(\n",
    "    (\n",
    "      qe_i27 + qe_i29 + qe_i30 + qe_i31 + qe_i33 + qe_i34 + qe_i35 + qe_i36 + qe_i37 + qe_i38 + qe_i39 + qe_i42 + qe_i49 + qe_i56\n",
    "    ) / 14\n",
    "  ) :: DECIMAL(10, 3) AS pedagogical_org,\n",
    "  mean(\n",
    "    (\n",
    "      qe_i55 + qe_i58 + qe_i59 + qe_i60 + qe_i61 + qe_i62 + qe_i63 + qe_i64 + qe_i65 + qe_i66 + qe_i68\n",
    "    ) / 11\n",
    "  ) :: DECIMAL(10, 3) AS infrastructure,\n",
    "  mean(\n",
    "    (\n",
    "      qe_i43 + qe_i44 + qe_i45 + qe_i46 + qe_i47 + qe_i52 + qe_i53 + qe_i67\n",
    "    ) / 8\n",
    "  ) :: DECIMAL(10, 3) AS opportunities,\n",
    "  mean(\n",
    "    (\n",
    "      qe_i27 + qe_i29 + qe_i30 + qe_i31 + qe_i33 + qe_i34 + qe_i35 + qe_i36 + qe_i37 + qe_i38 + qe_i39 + qe_i42 + qe_i49 + qe_i56 + qe_i55 + qe_i58 + qe_i59 + qe_i60 + qe_i61 + qe_i62 + qe_i63 + qe_i64 + qe_i65 + qe_i66 + qe_i68 + qe_i43 + qe_i44 + qe_i45 + qe_i46 + qe_i47 + qe_i52 + qe_i53 + qe_i67\n",
    "    ) / 33\n",
    "  ) :: DECIMAL(10, 3) AS total_mean\n",
    "FROM\n",
    "  curso\n",
    "  INNER JOIN ies ON curso.codigo_da_ies = ies.codigo_da_ies\n",
    "GROUP BY\n",
    "  categoria_administrativa\n",
    "ORDER BY\n",
    "  total_mean DESC;"
   ]
  },
  {
   "cell_type": "code",
   "execution_count": null,
   "metadata": {
    "application/vnd.databricks.v1+cell": {
     "cellMetadata": {
      "byteLimit": 2048000,
      "implicitDf": true,
      "rowLimit": 10000
     },
     "inputWidgets": {},
     "nuid": "4efba1cb-4de9-4fd2-b7f0-fe293cc5f7de",
     "showTitle": false,
     "title": ""
    }
   },
   "outputs": [
    {
     "data": {
      "text/html": [
       "<style scoped>\n",
       "  .table-result-container {\n",
       "    max-height: 300px;\n",
       "    overflow: auto;\n",
       "  }\n",
       "  table, th, td {\n",
       "    border: 1px solid black;\n",
       "    border-collapse: collapse;\n",
       "  }\n",
       "  th, td {\n",
       "    padding: 5px;\n",
       "  }\n",
       "  th {\n",
       "    text-align: left;\n",
       "  }\n",
       "</style><div class='table-result-container'><table class='table-result'><thead style='background-color: white'><tr><th>categoria_simplificada</th><th>pedagogical_org</th><th>infrastructure</th><th>opportunities</th><th>total_mean</th></tr></thead><tbody><tr><td>Especial</td><td>5.383</td><td>5.422</td><td>4.834</td><td>5.264</td></tr><tr><td>Privada</td><td>5.270</td><td>5.228</td><td>4.518</td><td>5.072</td></tr><tr><td>Pública</td><td>5.158</td><td>4.900</td><td>4.534</td><td>4.920</td></tr></tbody></table></div>"
      ]
     },
     "metadata": {
      "application/vnd.databricks.v1+output": {
       "addedWidgets": {},
       "aggData": [],
       "aggError": "",
       "aggOverflow": false,
       "aggSchema": [],
       "aggSeriesLimitReached": false,
       "aggType": "",
       "arguments": {},
       "columnCustomDisplayInfos": {},
       "data": [
        [
         "Especial",
         "5.383",
         "5.422",
         "4.834",
         "5.264"
        ],
        [
         "Privada",
         "5.270",
         "5.228",
         "4.518",
         "5.072"
        ],
        [
         "Pública",
         "5.158",
         "4.900",
         "4.534",
         "4.920"
        ]
       ],
       "datasetInfos": [],
       "dbfsResultPath": null,
       "isJsonSchema": true,
       "metadata": {
        "dataframeName": "_sqldf",
        "executionCount": 11
       },
       "overflow": false,
       "plotOptions": {
        "customPlotOptions": {},
        "displayType": "table",
        "pivotAggregation": null,
        "pivotColumns": null,
        "xColumns": null,
        "yColumns": null
       },
       "removedWidgets": [],
       "schema": [
        {
         "metadata": "{}",
         "name": "categoria_simplificada",
         "type": "\"string\""
        },
        {
         "metadata": "{}",
         "name": "pedagogical_org",
         "type": "\"decimal(10,3)\""
        },
        {
         "metadata": "{}",
         "name": "infrastructure",
         "type": "\"decimal(10,3)\""
        },
        {
         "metadata": "{}",
         "name": "opportunities",
         "type": "\"decimal(10,3)\""
        },
        {
         "metadata": "{}",
         "name": "total_mean",
         "type": "\"decimal(10,3)\""
        }
       ],
       "type": "table"
      }
     },
     "output_type": "display_data"
    }
   ],
   "source": [
    "%sql\n",
    "SELECT\n",
    "  CASE\n",
    "    WHEN categoria_administrativa LIKE 'Pública%' THEN 'Pública'\n",
    "    WHEN categoria_administrativa LIKE 'Privada%' THEN 'Privada'\n",
    "    ELSE 'Especial'\n",
    "  END AS categoria_simplificada,\n",
    "  mean(\n",
    "    (\n",
    "      qe_i27 + qe_i29 + qe_i30 + qe_i31 + qe_i33 + qe_i34 + qe_i35 + qe_i36 + qe_i37 + qe_i38 + qe_i39 + qe_i42 + qe_i49 + qe_i56\n",
    "    ) / 14\n",
    "  )::DECIMAL(10,3) AS pedagogical_org,\n",
    "  mean(\n",
    "    (\n",
    "      qe_i55 + qe_i58 + qe_i59 + qe_i60 + qe_i61 + qe_i62 + qe_i63 + qe_i64 + qe_i65 + qe_i66 + qe_i68\n",
    "    ) / 11\n",
    "  )::DECIMAL(10,3) AS infrastructure,\n",
    "  mean(\n",
    "    (\n",
    "      qe_i43 + qe_i44 + qe_i45 + qe_i46 + qe_i47 + qe_i52 + qe_i53 + qe_i67\n",
    "    ) / 8\n",
    "  )::DECIMAL(10,3) AS opportunities,\n",
    "  mean(\n",
    "    (qe_i27 + qe_i29 + qe_i30 + qe_i31 + qe_i33 + qe_i34 + qe_i35 + qe_i36 + qe_i37 + qe_i38 + qe_i39 + qe_i42 + qe_i49 + qe_i56 + qe_i55 + qe_i58 + qe_i59 + qe_i60 + qe_i61 + qe_i62 + qe_i63 + qe_i64 + qe_i65 + qe_i66 + qe_i68 + qe_i43 + qe_i44 + qe_i45 + qe_i46 + qe_i47 + qe_i52 + qe_i53 + qe_i67) / 33\n",
    "  )::DECIMAL(10,3) AS total_mean\n",
    "FROM\n",
    "  curso\n",
    "  INNER JOIN ies ON curso.codigo_da_ies = ies.codigo_da_ies\n",
    "GROUP BY\n",
    "  categoria_simplificada\n",
    "ORDER BY\n",
    "  total_mean DESC;"
   ]
  },
  {
   "cell_type": "markdown",
   "metadata": {
    "application/vnd.databricks.v1+cell": {
     "cellMetadata": {},
     "inputWidgets": {},
     "nuid": "7be34b04-2fec-4140-bf21-de4dfdacd732",
     "showTitle": false,
     "title": ""
    }
   },
   "source": [
    "The analysis shows that even tho private universities are overall better graded on student perception than public universities, it is not by a lot how it was in the enade grade. But at the same time, there is a mismatch between the enade grade and the student perception of the course in publics universities."
   ]
  },
  {
   "cell_type": "markdown",
   "metadata": {
    "application/vnd.databricks.v1+cell": {
     "cellMetadata": {},
     "inputWidgets": {},
     "nuid": "6c9d43da-40fa-478c-8df9-d94b6bf30253",
     "showTitle": false,
     "title": ""
    }
   },
   "source": [
    "Let's see now the best universities by enade grade and the worst, comparing it to the mean of the student perception."
   ]
  },
  {
   "cell_type": "code",
   "execution_count": null,
   "metadata": {
    "application/vnd.databricks.v1+cell": {
     "cellMetadata": {
      "byteLimit": 2048000,
      "implicitDf": true,
      "rowLimit": 10000
     },
     "inputWidgets": {},
     "nuid": "720bdd1b-4cfb-43c1-8322-eeaf27e0b3c6",
     "showTitle": false,
     "title": ""
    }
   },
   "outputs": [
    {
     "data": {
      "text/html": [
       "<style scoped>\n",
       "  .table-result-container {\n",
       "    max-height: 300px;\n",
       "    overflow: auto;\n",
       "  }\n",
       "  table, th, td {\n",
       "    border: 1px solid black;\n",
       "    border-collapse: collapse;\n",
       "  }\n",
       "  th, td {\n",
       "    padding: 5px;\n",
       "  }\n",
       "  th {\n",
       "    text-align: left;\n",
       "  }\n",
       "</style><div class='table-result-container'><table class='table-result'><thead style='background-color: white'><tr><th>codigo_da_ies</th><th>nome_da_ies</th><th>categoria_administrativa</th><th>enade</th><th>sq_mean</th></tr></thead><tbody><tr><td>1851</td><td>ESCOLA BRASILEIRA DE ADMINISTRAÇÃO PÚBLICA E DE EMPRESAS</td><td>Privada sem fins lucrativos</td><td>5.0000000</td><td>5.626</td></tr><tr><td>890</td><td>ESCOLA DE GOVERNO PROFESSOR PAULO NEVES DE CARVALHO</td><td>Pública Estadual</td><td>5.0000000</td><td>5.607</td></tr><tr><td>2591</td><td>EPGE Escola Brasileira de Economia e Finanças</td><td>Privada sem fins lucrativos</td><td>5.0000000</td><td>5.835</td></tr><tr><td>598</td><td>UNIVERSIDADE FEDERAL DE ITAJUBÁ - UNIFEI</td><td>Pública Federal</td><td>4.9650000</td><td>5.057</td></tr><tr><td>594</td><td>CENTRO FEDERAL DE EDUCAÇÃO TECNOLÓGICA DE MINAS GERAIS</td><td>Pública Federal</td><td>4.9600000</td><td>5.316</td></tr><tr><td>3308</td><td>FACULDADE ENGENHEIRO SALVADOR ARENA</td><td>Privada sem fins lucrativos</td><td>4.9580000</td><td>5.778</td></tr><tr><td>2126</td><td>ESCOLA DE DIREITO DO RIO DE JANEIRO</td><td>Privada sem fins lucrativos</td><td>4.9450000</td><td>5.990</td></tr><tr><td>21826</td><td>Faculdade Sebrae</td><td>Privada sem fins lucrativos</td><td>4.8720000</td><td>5.504</td></tr><tr><td>22862</td><td>FranklinCovey Business School</td><td>Privada com fins lucrativos</td><td>4.7620000</td><td>null</td></tr><tr><td>20074</td><td>Instituto Brasileiro de Coaching</td><td>Privada com fins lucrativos</td><td>4.7380000</td><td>5.556</td></tr><tr><td>12661</td><td>FACULDADE DE TECNOLOGIA SAINT PAUL</td><td>Privada com fins lucrativos</td><td>4.7210000</td><td>5.259</td></tr><tr><td>4053</td><td>FACULDADE SKEMA BUSINESS SCHOOL</td><td>Privada com fins lucrativos</td><td>4.7150000</td><td>5.667</td></tr><tr><td>21952</td><td>FGV / Escola de Relações Internacionais</td><td>Privada sem fins lucrativos</td><td>4.6650000</td><td>5.563</td></tr><tr><td>2397</td><td>FACULDADE FUCAPE</td><td>Privada com fins lucrativos</td><td>4.6203333</td><td>5.205</td></tr><tr><td>717</td><td>FUNDAÇÃO UNIVERSIDADE FEDERAL DE CIÊNCIAS DA SAÚDE DE PORTO ALEGRE</td><td>Pública Federal</td><td>4.5915000</td><td>4.956</td></tr><tr><td>149</td><td>FACULDADE DE MEDICINA DE SÃO JOSÉ DO RIO PRETO</td><td>Pública Estadual</td><td>4.5090000</td><td>4.853</td></tr><tr><td>575</td><td>UNIVERSIDADE FEDERAL DE MINAS GERAIS</td><td>Pública Federal</td><td>4.5071000</td><td>5.093</td></tr><tr><td>2128</td><td>Escola de Direito de São Paulo - FGV DIREITO SP</td><td>Privada sem fins lucrativos</td><td>4.4370000</td><td>5.504</td></tr><tr><td>581</td><td>UNIVERSIDADE FEDERAL DO RIO GRANDE DO SUL</td><td>Pública Federal</td><td>4.3594000</td><td>4.858</td></tr><tr><td>54</td><td>UNIVERSIDADE ESTADUAL DE CAMPINAS</td><td>Pública Estadual</td><td>4.3330000</td><td>5.285</td></tr></tbody></table></div>"
      ]
     },
     "metadata": {
      "application/vnd.databricks.v1+output": {
       "addedWidgets": {},
       "aggData": [],
       "aggError": "",
       "aggOverflow": false,
       "aggSchema": [],
       "aggSeriesLimitReached": false,
       "aggType": "",
       "arguments": {},
       "columnCustomDisplayInfos": {},
       "data": [
        [
         1851,
         "ESCOLA BRASILEIRA DE ADMINISTRAÇÃO PÚBLICA E DE EMPRESAS",
         "Privada sem fins lucrativos",
         "5.0000000",
         "5.626"
        ],
        [
         890,
         "ESCOLA DE GOVERNO PROFESSOR PAULO NEVES DE CARVALHO",
         "Pública Estadual",
         "5.0000000",
         "5.607"
        ],
        [
         2591,
         "EPGE Escola Brasileira de Economia e Finanças",
         "Privada sem fins lucrativos",
         "5.0000000",
         "5.835"
        ],
        [
         598,
         "UNIVERSIDADE FEDERAL DE ITAJUBÁ - UNIFEI",
         "Pública Federal",
         "4.9650000",
         "5.057"
        ],
        [
         594,
         "CENTRO FEDERAL DE EDUCAÇÃO TECNOLÓGICA DE MINAS GERAIS",
         "Pública Federal",
         "4.9600000",
         "5.316"
        ],
        [
         3308,
         "FACULDADE ENGENHEIRO SALVADOR ARENA",
         "Privada sem fins lucrativos",
         "4.9580000",
         "5.778"
        ],
        [
         2126,
         "ESCOLA DE DIREITO DO RIO DE JANEIRO",
         "Privada sem fins lucrativos",
         "4.9450000",
         "5.990"
        ],
        [
         21826,
         "Faculdade Sebrae",
         "Privada sem fins lucrativos",
         "4.8720000",
         "5.504"
        ],
        [
         22862,
         "FranklinCovey Business School",
         "Privada com fins lucrativos",
         "4.7620000",
         null
        ],
        [
         20074,
         "Instituto Brasileiro de Coaching",
         "Privada com fins lucrativos",
         "4.7380000",
         "5.556"
        ],
        [
         12661,
         "FACULDADE DE TECNOLOGIA SAINT PAUL",
         "Privada com fins lucrativos",
         "4.7210000",
         "5.259"
        ],
        [
         4053,
         "FACULDADE SKEMA BUSINESS SCHOOL",
         "Privada com fins lucrativos",
         "4.7150000",
         "5.667"
        ],
        [
         21952,
         "FGV / Escola de Relações Internacionais",
         "Privada sem fins lucrativos",
         "4.6650000",
         "5.563"
        ],
        [
         2397,
         "FACULDADE FUCAPE",
         "Privada com fins lucrativos",
         "4.6203333",
         "5.205"
        ],
        [
         717,
         "FUNDAÇÃO UNIVERSIDADE FEDERAL DE CIÊNCIAS DA SAÚDE DE PORTO ALEGRE",
         "Pública Federal",
         "4.5915000",
         "4.956"
        ],
        [
         149,
         "FACULDADE DE MEDICINA DE SÃO JOSÉ DO RIO PRETO",
         "Pública Estadual",
         "4.5090000",
         "4.853"
        ],
        [
         575,
         "UNIVERSIDADE FEDERAL DE MINAS GERAIS",
         "Pública Federal",
         "4.5071000",
         "5.093"
        ],
        [
         2128,
         "Escola de Direito de São Paulo - FGV DIREITO SP",
         "Privada sem fins lucrativos",
         "4.4370000",
         "5.504"
        ],
        [
         581,
         "UNIVERSIDADE FEDERAL DO RIO GRANDE DO SUL",
         "Pública Federal",
         "4.3594000",
         "4.858"
        ],
        [
         54,
         "UNIVERSIDADE ESTADUAL DE CAMPINAS",
         "Pública Estadual",
         "4.3330000",
         "5.285"
        ]
       ],
       "datasetInfos": [],
       "dbfsResultPath": null,
       "isJsonSchema": true,
       "metadata": {
        "dataframeName": "_sqldf",
        "executionCount": 13
       },
       "overflow": false,
       "plotOptions": {
        "customPlotOptions": {},
        "displayType": "table",
        "pivotAggregation": null,
        "pivotColumns": null,
        "xColumns": null,
        "yColumns": null
       },
       "removedWidgets": [],
       "schema": [
        {
         "metadata": "{}",
         "name": "codigo_da_ies",
         "type": "\"integer\""
        },
        {
         "metadata": "{}",
         "name": "nome_da_ies",
         "type": "\"string\""
        },
        {
         "metadata": "{}",
         "name": "categoria_administrativa",
         "type": "\"string\""
        },
        {
         "metadata": "{}",
         "name": "enade",
         "type": "\"decimal(14,7)\""
        },
        {
         "metadata": "{}",
         "name": "sq_mean",
         "type": "\"decimal(10,3)\""
        }
       ],
       "type": "table"
      }
     },
     "output_type": "display_data"
    }
   ],
   "source": [
    "%sql\n",
    "WITH ies_group AS (\n",
    "  SELECT\n",
    "    codigo_da_ies,\n",
    "    mean(conceito_enade_continuo) AS enade,\n",
    "    mean(\n",
    "      (\n",
    "        qe_i27 + qe_i29 + qe_i30 + qe_i31 + qe_i33 + qe_i34 + qe_i35 + qe_i36 + qe_i37 + qe_i38 + qe_i39 + qe_i42 + qe_i49 + qe_i56 + qe_i55 + qe_i58 + qe_i59 + qe_i60 + qe_i61 + qe_i62 + qe_i63 + qe_i64 + qe_i65 + qe_i66 + qe_i68 + qe_i43 + qe_i44 + qe_i45 + qe_i46 + qe_i47 + qe_i52 + qe_i53 + qe_i67\n",
    "      ) / 33\n",
    "    ) :: DECIMAL(10, 3) AS sq_mean\n",
    "  FROM\n",
    "    curso\n",
    "  GROUP BY\n",
    "    codigo_da_ies\n",
    ")\n",
    "SELECT\n",
    "  ies_group.codigo_da_ies,\n",
    "  nome_da_ies,\n",
    "  categoria_administrativa,\n",
    "  enade,\n",
    "  sq_mean\n",
    "FROM\n",
    "  ies_group\n",
    "  INNER JOIN ies ON ies_group.codigo_da_ies = ies.codigo_da_ies\n",
    "ORDER BY\n",
    "  enade DESC\n",
    "LIMIT\n",
    "  20;"
   ]
  },
  {
   "cell_type": "code",
   "execution_count": null,
   "metadata": {
    "application/vnd.databricks.v1+cell": {
     "cellMetadata": {
      "byteLimit": 2048000,
      "implicitDf": true,
      "rowLimit": 10000
     },
     "inputWidgets": {},
     "nuid": "2e27a2a2-2101-4d0e-af38-eab611d843ad",
     "showTitle": false,
     "title": ""
    }
   },
   "outputs": [
    {
     "data": {
      "text/html": [
       "<style scoped>\n",
       "  .table-result-container {\n",
       "    max-height: 300px;\n",
       "    overflow: auto;\n",
       "  }\n",
       "  table, th, td {\n",
       "    border: 1px solid black;\n",
       "    border-collapse: collapse;\n",
       "  }\n",
       "  th, td {\n",
       "    padding: 5px;\n",
       "  }\n",
       "  th {\n",
       "    text-align: left;\n",
       "  }\n",
       "</style><div class='table-result-container'><table class='table-result'><thead style='background-color: white'><tr><th>codigo_da_ies</th><th>nome_da_ies</th><th>categoria_administrativa</th><th>enade</th><th>sq_mean</th></tr></thead><tbody><tr><td>11895</td><td>FACULDADE UNIBRASÍLIA</td><td>Privada com fins lucrativos</td><td>0.1530000</td><td>5.235</td></tr><tr><td>18826</td><td>Faculdade FILOS</td><td>Privada com fins lucrativos</td><td>0.1750000</td><td>4.182</td></tr><tr><td>2355</td><td>FACULDADE ANHANGUERA DE MATÃO</td><td>Privada com fins lucrativos</td><td>0.1840000</td><td>5.162</td></tr><tr><td>1605</td><td>FACULDADE DE ADMINISTRAÇÃO DE NOVA ANDRADINA - FANOVA</td><td>Privada sem fins lucrativos</td><td>0.1840000</td><td>null</td></tr><tr><td>15428</td><td>Faculdade UNIRB - NATAL</td><td>Privada com fins lucrativos</td><td>0.1950000</td><td>4.758</td></tr><tr><td>18631</td><td>FACULDADE DO VALE DO RIO ARINOS</td><td>Privada com fins lucrativos</td><td>0.2130000</td><td>5.894</td></tr><tr><td>4858</td><td>ESCOLA SUPERIOR DE SAÚDE DE ARCOVERDE</td><td>Pública Municipal</td><td>0.2230000</td><td>4.072</td></tr><tr><td>809</td><td>FACULDADE DE DIREITO E CIÊNCIAS SOCIAIS DO LESTE DE MINAS - FADILESTE</td><td>Privada sem fins lucrativos</td><td>0.2450000</td><td>4.356</td></tr><tr><td>2240</td><td>FACULDADE DE FORTALEZA</td><td>Privada com fins lucrativos</td><td>0.3080000</td><td>null</td></tr><tr><td>17775</td><td>Faculdade de Ciências da Saúde de Serra Talhada</td><td>Pública Municipal</td><td>0.3140000</td><td>4.873</td></tr><tr><td>19171</td><td>Faculdade de Teologia Fortaleza - FATEFOR</td><td>Privada sem fins lucrativos</td><td>0.3890000</td><td>5.749</td></tr><tr><td>17284</td><td>FACULDADE UNINASSAU SÃO LUÍS</td><td>Privada sem fins lucrativos</td><td>0.4400000</td><td>5.013</td></tr><tr><td>14297</td><td>Faculdade Unirb - Parnaíba</td><td>Privada com fins lucrativos</td><td>0.4780000</td><td>4.396</td></tr><tr><td>1374</td><td>FACULDADE DE GUARANTÃ DO NORTE</td><td>Privada com fins lucrativos</td><td>0.4900000</td><td>4.949</td></tr><tr><td>18267</td><td>FACULDADE INTEGRADA DE GESTÃO E MEIO AMBIENTE</td><td>Privada com fins lucrativos</td><td>0.5980000</td><td>5.850</td></tr><tr><td>10588</td><td>FACULDADE UNINABUCO SÃO LOURENÇO DA MATA</td><td>Privada sem fins lucrativos</td><td>0.6090000</td><td>5.099</td></tr><tr><td>1835</td><td>Faculdade de Colinas do Tocantins</td><td>Privada com fins lucrativos</td><td>0.6215000</td><td>4.720</td></tr><tr><td>19838</td><td>Faculdade Lusitana de Pernambuco</td><td>Privada sem fins lucrativos</td><td>0.6640000</td><td>5.401</td></tr><tr><td>2444</td><td>Faculdade Unirb - Barreiras</td><td>Privada com fins lucrativos</td><td>0.6780000</td><td>5.106</td></tr><tr><td>3294</td><td>CENTRO UNIVERSITÁRIO FAVENI</td><td>Privada com fins lucrativos</td><td>0.7320000</td><td>5.111</td></tr></tbody></table></div>"
      ]
     },
     "metadata": {
      "application/vnd.databricks.v1+output": {
       "addedWidgets": {},
       "aggData": [],
       "aggError": "",
       "aggOverflow": false,
       "aggSchema": [],
       "aggSeriesLimitReached": false,
       "aggType": "",
       "arguments": {},
       "columnCustomDisplayInfos": {},
       "data": [
        [
         11895,
         "FACULDADE UNIBRASÍLIA",
         "Privada com fins lucrativos",
         "0.1530000",
         "5.235"
        ],
        [
         18826,
         "Faculdade FILOS",
         "Privada com fins lucrativos",
         "0.1750000",
         "4.182"
        ],
        [
         2355,
         "FACULDADE ANHANGUERA DE MATÃO",
         "Privada com fins lucrativos",
         "0.1840000",
         "5.162"
        ],
        [
         1605,
         "FACULDADE DE ADMINISTRAÇÃO DE NOVA ANDRADINA - FANOVA",
         "Privada sem fins lucrativos",
         "0.1840000",
         null
        ],
        [
         15428,
         "Faculdade UNIRB - NATAL",
         "Privada com fins lucrativos",
         "0.1950000",
         "4.758"
        ],
        [
         18631,
         "FACULDADE DO VALE DO RIO ARINOS",
         "Privada com fins lucrativos",
         "0.2130000",
         "5.894"
        ],
        [
         4858,
         "ESCOLA SUPERIOR DE SAÚDE DE ARCOVERDE",
         "Pública Municipal",
         "0.2230000",
         "4.072"
        ],
        [
         809,
         "FACULDADE DE DIREITO E CIÊNCIAS SOCIAIS DO LESTE DE MINAS - FADILESTE",
         "Privada sem fins lucrativos",
         "0.2450000",
         "4.356"
        ],
        [
         2240,
         "FACULDADE DE FORTALEZA",
         "Privada com fins lucrativos",
         "0.3080000",
         null
        ],
        [
         17775,
         "Faculdade de Ciências da Saúde de Serra Talhada",
         "Pública Municipal",
         "0.3140000",
         "4.873"
        ],
        [
         19171,
         "Faculdade de Teologia Fortaleza - FATEFOR",
         "Privada sem fins lucrativos",
         "0.3890000",
         "5.749"
        ],
        [
         17284,
         "FACULDADE UNINASSAU SÃO LUÍS",
         "Privada sem fins lucrativos",
         "0.4400000",
         "5.013"
        ],
        [
         14297,
         "Faculdade Unirb - Parnaíba",
         "Privada com fins lucrativos",
         "0.4780000",
         "4.396"
        ],
        [
         1374,
         "FACULDADE DE GUARANTÃ DO NORTE",
         "Privada com fins lucrativos",
         "0.4900000",
         "4.949"
        ],
        [
         18267,
         "FACULDADE INTEGRADA DE GESTÃO E MEIO AMBIENTE",
         "Privada com fins lucrativos",
         "0.5980000",
         "5.850"
        ],
        [
         10588,
         "FACULDADE UNINABUCO SÃO LOURENÇO DA MATA",
         "Privada sem fins lucrativos",
         "0.6090000",
         "5.099"
        ],
        [
         1835,
         "Faculdade de Colinas do Tocantins",
         "Privada com fins lucrativos",
         "0.6215000",
         "4.720"
        ],
        [
         19838,
         "Faculdade Lusitana de Pernambuco",
         "Privada sem fins lucrativos",
         "0.6640000",
         "5.401"
        ],
        [
         2444,
         "Faculdade Unirb - Barreiras",
         "Privada com fins lucrativos",
         "0.6780000",
         "5.106"
        ],
        [
         3294,
         "CENTRO UNIVERSITÁRIO FAVENI",
         "Privada com fins lucrativos",
         "0.7320000",
         "5.111"
        ]
       ],
       "datasetInfos": [],
       "dbfsResultPath": null,
       "isJsonSchema": true,
       "metadata": {
        "dataframeName": "_sqldf",
        "executionCount": 15
       },
       "overflow": false,
       "plotOptions": {
        "customPlotOptions": {},
        "displayType": "table",
        "pivotAggregation": null,
        "pivotColumns": null,
        "xColumns": null,
        "yColumns": null
       },
       "removedWidgets": [],
       "schema": [
        {
         "metadata": "{}",
         "name": "codigo_da_ies",
         "type": "\"integer\""
        },
        {
         "metadata": "{}",
         "name": "nome_da_ies",
         "type": "\"string\""
        },
        {
         "metadata": "{}",
         "name": "categoria_administrativa",
         "type": "\"string\""
        },
        {
         "metadata": "{}",
         "name": "enade",
         "type": "\"decimal(14,7)\""
        },
        {
         "metadata": "{}",
         "name": "sq_mean",
         "type": "\"decimal(10,3)\""
        }
       ],
       "type": "table"
      }
     },
     "output_type": "display_data"
    }
   ],
   "source": [
    "%sql\n",
    "WITH ies_group AS (\n",
    "  SELECT\n",
    "    codigo_da_ies,\n",
    "    mean(conceito_enade_continuo) AS enade,\n",
    "    mean(\n",
    "      (\n",
    "        qe_i27 + qe_i29 + qe_i30 + qe_i31 + qe_i33 + qe_i34 + qe_i35 + qe_i36 + qe_i37 + qe_i38 + qe_i39 + qe_i42 + qe_i49 + qe_i56 + qe_i55 + qe_i58 + qe_i59 + qe_i60 + qe_i61 + qe_i62 + qe_i63 + qe_i64 + qe_i65 + qe_i66 + qe_i68 + qe_i43 + qe_i44 + qe_i45 + qe_i46 + qe_i47 + qe_i52 + qe_i53 + qe_i67\n",
    "      ) / 33\n",
    "    ) :: DECIMAL(10, 3) AS sq_mean\n",
    "  FROM\n",
    "    curso\n",
    "  GROUP BY\n",
    "    codigo_da_ies\n",
    ")\n",
    "SELECT\n",
    "  ies_group.codigo_da_ies,\n",
    "  nome_da_ies,\n",
    "  categoria_administrativa,\n",
    "  enade,\n",
    "  sq_mean\n",
    "FROM\n",
    "  ies_group\n",
    "  INNER JOIN ies ON ies_group.codigo_da_ies = ies.codigo_da_ies\n",
    "WHERE enade IS NOT NULL\n",
    "ORDER BY\n",
    "  enade ASC\n",
    "LIMIT\n",
    "  20;"
   ]
  },
  {
   "cell_type": "markdown",
   "metadata": {
    "application/vnd.databricks.v1+cell": {
     "cellMetadata": {},
     "inputWidgets": {},
     "nuid": "7b09006d-21bb-409b-ab41-4df10ecda301",
     "showTitle": false,
     "title": ""
    }
   },
   "source": [
    "Now let's see the best and worst by student perception"
   ]
  },
  {
   "cell_type": "code",
   "execution_count": null,
   "metadata": {
    "application/vnd.databricks.v1+cell": {
     "cellMetadata": {
      "byteLimit": 2048000,
      "implicitDf": true,
      "rowLimit": 10000
     },
     "inputWidgets": {},
     "nuid": "18643a0f-0ac3-4591-bd65-4d2b09495432",
     "showTitle": false,
     "title": ""
    }
   },
   "outputs": [
    {
     "data": {
      "text/html": [
       "<style scoped>\n",
       "  .table-result-container {\n",
       "    max-height: 300px;\n",
       "    overflow: auto;\n",
       "  }\n",
       "  table, th, td {\n",
       "    border: 1px solid black;\n",
       "    border-collapse: collapse;\n",
       "  }\n",
       "  th, td {\n",
       "    padding: 5px;\n",
       "  }\n",
       "  th {\n",
       "    text-align: left;\n",
       "  }\n",
       "</style><div class='table-result-container'><table class='table-result'><thead style='background-color: white'><tr><th>codigo_da_ies</th><th>nome_da_ies</th><th>categoria_administrativa</th><th>enade</th><th>sq_mean</th></tr></thead><tbody><tr><td>73</td><td>CENTRO DE ENSINO SUPERIOR DE ARCOVERDE</td><td>Pública Municipal</td><td>1.2390000</td><td>6.000</td></tr><tr><td>17289</td><td>Faculdade Uriel de Almeida Leitão</td><td>Privada com fins lucrativos</td><td>0.9100000</td><td>6.000</td></tr><tr><td>2532</td><td>FACULDADE DO SUDESTE GOIANO</td><td>Privada com fins lucrativos</td><td>2.1865000</td><td>6.000</td></tr><tr><td>21463</td><td>FACULDADE DE ENSINO PORTAL</td><td>Privada sem fins lucrativos</td><td>2.6360000</td><td>6.000</td></tr><tr><td>5315</td><td>Faculdades Unificadas de Iúna</td><td>Privada sem fins lucrativos</td><td>0.9450000</td><td>6.000</td></tr><tr><td>17674</td><td>Faculdade de Educação de São Mateus</td><td>Privada com fins lucrativos</td><td>1.1240000</td><td>6.000</td></tr><tr><td>14115</td><td>Faculdade Presidente Antônio Carlos de Ponte Nova</td><td>Privada sem fins lucrativos</td><td>1.3600000</td><td>6.000</td></tr><tr><td>2538</td><td>FACULDADE VENDA NOVA DO IMIGRANTE</td><td>Privada com fins lucrativos</td><td>2.7745000</td><td>6.000</td></tr><tr><td>3495</td><td>FACULDADE PINHALZINHO</td><td>Privada com fins lucrativos</td><td>2.8630000</td><td>6.000</td></tr><tr><td>610</td><td>CENTRO UNIVERSITÁRIO UNIVERSUS VERITAS</td><td>Privada com fins lucrativos</td><td>3.4480000</td><td>5.998</td></tr><tr><td>17738</td><td>Faculdade Cesgranrio</td><td>Privada sem fins lucrativos</td><td>3.0830000</td><td>5.996</td></tr><tr><td>1122</td><td>FACULDADE REGES DE OSVALDO CRUZ</td><td>Privada sem fins lucrativos</td><td>2.1080000</td><td>5.995</td></tr><tr><td>3042</td><td>CHRISTUS FACULDADE DO PIAUÍ</td><td>Privada com fins lucrativos</td><td>2.5922500</td><td>5.994</td></tr><tr><td>2126</td><td>ESCOLA DE DIREITO DO RIO DE JANEIRO</td><td>Privada sem fins lucrativos</td><td>4.9450000</td><td>5.990</td></tr><tr><td>10836</td><td>FACULDADE UNIÃO ARARUAMA DE ENSINO S/S Ltda.</td><td>Privada com fins lucrativos</td><td>1.7405000</td><td>5.988</td></tr><tr><td>1834</td><td>FACULDADE DE AGUDOS</td><td>Privada sem fins lucrativos</td><td>3.3200000</td><td>5.985</td></tr><tr><td>3930</td><td>INSTITUTO DE EDUCAÇÃO SUPERIOR RAIMUNDO SÁ</td><td>Privada com fins lucrativos</td><td>2.2100000</td><td>5.982</td></tr><tr><td>4007</td><td>FATECE - FACULDADE DE TECNOLOGIA, CIÊNCIAS E EDUCAÇÃO</td><td>Privada com fins lucrativos</td><td>1.8240000</td><td>5.978</td></tr><tr><td>1230</td><td>CENTRO REGIONAL UNIVERSITÁRIO DE ESPÍRITO SANTO DO PINHAL</td><td>Privada sem fins lucrativos</td><td>3.2325000</td><td>5.967</td></tr><tr><td>2560</td><td>FACULDADE DE ENSINO SUPERIOR DA CIDADE DE FEIRA DE SANTANA</td><td>Privada com fins lucrativos</td><td>2.6920000</td><td>5.960</td></tr></tbody></table></div>"
      ]
     },
     "metadata": {
      "application/vnd.databricks.v1+output": {
       "addedWidgets": {},
       "aggData": [],
       "aggError": "",
       "aggOverflow": false,
       "aggSchema": [],
       "aggSeriesLimitReached": false,
       "aggType": "",
       "arguments": {},
       "columnCustomDisplayInfos": {},
       "data": [
        [
         73,
         "CENTRO DE ENSINO SUPERIOR DE ARCOVERDE",
         "Pública Municipal",
         "1.2390000",
         "6.000"
        ],
        [
         17289,
         "Faculdade Uriel de Almeida Leitão",
         "Privada com fins lucrativos",
         "0.9100000",
         "6.000"
        ],
        [
         2532,
         "FACULDADE DO SUDESTE GOIANO",
         "Privada com fins lucrativos",
         "2.1865000",
         "6.000"
        ],
        [
         21463,
         "FACULDADE DE ENSINO PORTAL",
         "Privada sem fins lucrativos",
         "2.6360000",
         "6.000"
        ],
        [
         5315,
         "Faculdades Unificadas de Iúna",
         "Privada sem fins lucrativos",
         "0.9450000",
         "6.000"
        ],
        [
         17674,
         "Faculdade de Educação de São Mateus",
         "Privada com fins lucrativos",
         "1.1240000",
         "6.000"
        ],
        [
         14115,
         "Faculdade Presidente Antônio Carlos de Ponte Nova",
         "Privada sem fins lucrativos",
         "1.3600000",
         "6.000"
        ],
        [
         2538,
         "FACULDADE VENDA NOVA DO IMIGRANTE",
         "Privada com fins lucrativos",
         "2.7745000",
         "6.000"
        ],
        [
         3495,
         "FACULDADE PINHALZINHO",
         "Privada com fins lucrativos",
         "2.8630000",
         "6.000"
        ],
        [
         610,
         "CENTRO UNIVERSITÁRIO UNIVERSUS VERITAS",
         "Privada com fins lucrativos",
         "3.4480000",
         "5.998"
        ],
        [
         17738,
         "Faculdade Cesgranrio",
         "Privada sem fins lucrativos",
         "3.0830000",
         "5.996"
        ],
        [
         1122,
         "FACULDADE REGES DE OSVALDO CRUZ",
         "Privada sem fins lucrativos",
         "2.1080000",
         "5.995"
        ],
        [
         3042,
         "CHRISTUS FACULDADE DO PIAUÍ",
         "Privada com fins lucrativos",
         "2.5922500",
         "5.994"
        ],
        [
         2126,
         "ESCOLA DE DIREITO DO RIO DE JANEIRO",
         "Privada sem fins lucrativos",
         "4.9450000",
         "5.990"
        ],
        [
         10836,
         "FACULDADE UNIÃO ARARUAMA DE ENSINO S/S Ltda.",
         "Privada com fins lucrativos",
         "1.7405000",
         "5.988"
        ],
        [
         1834,
         "FACULDADE DE AGUDOS",
         "Privada sem fins lucrativos",
         "3.3200000",
         "5.985"
        ],
        [
         3930,
         "INSTITUTO DE EDUCAÇÃO SUPERIOR RAIMUNDO SÁ",
         "Privada com fins lucrativos",
         "2.2100000",
         "5.982"
        ],
        [
         4007,
         "FATECE - FACULDADE DE TECNOLOGIA, CIÊNCIAS E EDUCAÇÃO",
         "Privada com fins lucrativos",
         "1.8240000",
         "5.978"
        ],
        [
         1230,
         "CENTRO REGIONAL UNIVERSITÁRIO DE ESPÍRITO SANTO DO PINHAL",
         "Privada sem fins lucrativos",
         "3.2325000",
         "5.967"
        ],
        [
         2560,
         "FACULDADE DE ENSINO SUPERIOR DA CIDADE DE FEIRA DE SANTANA",
         "Privada com fins lucrativos",
         "2.6920000",
         "5.960"
        ]
       ],
       "datasetInfos": [],
       "dbfsResultPath": null,
       "isJsonSchema": true,
       "metadata": {
        "dataframeName": "_sqldf",
        "executionCount": 16
       },
       "overflow": false,
       "plotOptions": {
        "customPlotOptions": {},
        "displayType": "table",
        "pivotAggregation": null,
        "pivotColumns": null,
        "xColumns": null,
        "yColumns": null
       },
       "removedWidgets": [],
       "schema": [
        {
         "metadata": "{}",
         "name": "codigo_da_ies",
         "type": "\"integer\""
        },
        {
         "metadata": "{}",
         "name": "nome_da_ies",
         "type": "\"string\""
        },
        {
         "metadata": "{}",
         "name": "categoria_administrativa",
         "type": "\"string\""
        },
        {
         "metadata": "{}",
         "name": "enade",
         "type": "\"decimal(14,7)\""
        },
        {
         "metadata": "{}",
         "name": "sq_mean",
         "type": "\"decimal(10,3)\""
        }
       ],
       "type": "table"
      }
     },
     "output_type": "display_data"
    }
   ],
   "source": [
    "%sql\n",
    "WITH ies_group AS (\n",
    "  SELECT\n",
    "    codigo_da_ies,\n",
    "    mean(conceito_enade_continuo) AS enade,\n",
    "    mean(\n",
    "      (\n",
    "        qe_i27 + qe_i29 + qe_i30 + qe_i31 + qe_i33 + qe_i34 + qe_i35 + qe_i36 + qe_i37 + qe_i38 + qe_i39 + qe_i42 + qe_i49 + qe_i56 + qe_i55 + qe_i58 + qe_i59 + qe_i60 + qe_i61 + qe_i62 + qe_i63 + qe_i64 + qe_i65 + qe_i66 + qe_i68 + qe_i43 + qe_i44 + qe_i45 + qe_i46 + qe_i47 + qe_i52 + qe_i53 + qe_i67\n",
    "      ) / 33\n",
    "    ) :: DECIMAL(10, 3) AS sq_mean\n",
    "  FROM\n",
    "    curso\n",
    "  GROUP BY\n",
    "    codigo_da_ies\n",
    ")\n",
    "SELECT\n",
    "  ies_group.codigo_da_ies,\n",
    "  nome_da_ies,\n",
    "  categoria_administrativa,\n",
    "  enade,\n",
    "  sq_mean\n",
    "FROM\n",
    "  ies_group\n",
    "  INNER JOIN ies ON ies_group.codigo_da_ies = ies.codigo_da_ies\n",
    "ORDER BY\n",
    "  sq_mean DESC\n",
    "LIMIT\n",
    "  20;"
   ]
  },
  {
   "cell_type": "code",
   "execution_count": null,
   "metadata": {
    "application/vnd.databricks.v1+cell": {
     "cellMetadata": {
      "byteLimit": 2048000,
      "implicitDf": true,
      "rowLimit": 10000
     },
     "inputWidgets": {},
     "nuid": "daf0dfb2-06ef-4390-b827-732cd8bd2795",
     "showTitle": false,
     "title": ""
    }
   },
   "outputs": [
    {
     "data": {
      "text/html": [
       "<style scoped>\n",
       "  .table-result-container {\n",
       "    max-height: 300px;\n",
       "    overflow: auto;\n",
       "  }\n",
       "  table, th, td {\n",
       "    border: 1px solid black;\n",
       "    border-collapse: collapse;\n",
       "  }\n",
       "  th, td {\n",
       "    padding: 5px;\n",
       "  }\n",
       "  th {\n",
       "    text-align: left;\n",
       "  }\n",
       "</style><div class='table-result-container'><table class='table-result'><thead style='background-color: white'><tr><th>codigo_da_ies</th><th>nome_da_ies</th><th>categoria_administrativa</th><th>enade</th><th>sq_mean</th></tr></thead><tbody><tr><td>3182</td><td>Faculdade UNIRB - ARAPIRACA</td><td>Privada com fins lucrativos</td><td>0.8950000</td><td>3.775</td></tr><tr><td>19206</td><td>FACULDADE UNIRB - FORTALEZA</td><td>Privada com fins lucrativos</td><td>1.9130000</td><td>3.855</td></tr><tr><td>17667</td><td>FACULDADE ANHANGUERA UNIDADE PARAUAPEBAS</td><td>Privada com fins lucrativos</td><td>2.2450000</td><td>3.860</td></tr><tr><td>2420</td><td>FACULDADE PARANAENSE</td><td>Privada com fins lucrativos</td><td>1.3420000</td><td>3.911</td></tr><tr><td>3170</td><td>FACULDADE ESTÁCIO DE FLORIANÓPOLIS - ESTÁCIO FLORIANÓPOLIS</td><td>Privada com fins lucrativos</td><td>3.1080000</td><td>3.943</td></tr><tr><td>5242</td><td>UNIVERSIDADE ESTADUAL DE ALAGOAS - UNEAL</td><td>Pública Estadual</td><td>2.6430000</td><td>3.956</td></tr><tr><td>4251</td><td>FACULDADE PITÁGORAS DE TECNOLOGIA DE BELO HORIZONTE</td><td>Privada com fins lucrativos</td><td>1.8010000</td><td>3.976</td></tr><tr><td>2027</td><td>FACULDADE DE CAMPINA GRANDE</td><td>Privada com fins lucrativos</td><td>2.0150000</td><td>4.045</td></tr><tr><td>1680</td><td>Faculdade Unirb - Mossoró</td><td>Privada com fins lucrativos</td><td>3.2780000</td><td>4.048</td></tr><tr><td>4858</td><td>ESCOLA SUPERIOR DE SAÚDE DE ARCOVERDE</td><td>Pública Municipal</td><td>0.2230000</td><td>4.072</td></tr><tr><td>4257</td><td>INSTITUTO DE FILOSOFIA E TEOLOGIA DE GOIÁS</td><td>Privada sem fins lucrativos</td><td>3.3260000</td><td>4.076</td></tr><tr><td>1276</td><td>INSTITUTO TAUBATÉ DE ENSINO SUPERIOR</td><td>Privada com fins lucrativos</td><td>2.6940000</td><td>4.105</td></tr><tr><td>23867</td><td>Faculdade de Tecnologia de Sumaré</td><td>Pública Estadual</td><td>4.0105000</td><td>4.107</td></tr><tr><td>16759</td><td>FACULDADE DO BICO</td><td>Privada com fins lucrativos</td><td>1.5870000</td><td>4.120</td></tr><tr><td>1576</td><td>INSTITUTO DE ENSINO SUPERIOR BLAURO CARDOSO DE MATTOS</td><td>Privada sem fins lucrativos</td><td>2.1270000</td><td>4.123</td></tr><tr><td>458</td><td>UNIVERSIDADE IBIRAPUERA</td><td>Privada sem fins lucrativos</td><td>1.3045000</td><td>4.125</td></tr><tr><td>1084</td><td>CENTRO UNIVERSITÁRIO CNEC DE BENTO GONÇALVES</td><td>Privada sem fins lucrativos</td><td>1.6765000</td><td>4.125</td></tr><tr><td>1785</td><td>FACULDADE DE COLIDER</td><td>Privada sem fins lucrativos</td><td>1.3440000</td><td>4.140</td></tr><tr><td>18826</td><td>Faculdade FILOS</td><td>Privada com fins lucrativos</td><td>0.1750000</td><td>4.182</td></tr><tr><td>16395</td><td>Faculdade de Tecnologia de Carapicuiba</td><td>Pública Estadual</td><td>3.4090000</td><td>4.186</td></tr></tbody></table></div>"
      ]
     },
     "metadata": {
      "application/vnd.databricks.v1+output": {
       "addedWidgets": {},
       "aggData": [],
       "aggError": "",
       "aggOverflow": false,
       "aggSchema": [],
       "aggSeriesLimitReached": false,
       "aggType": "",
       "arguments": {},
       "columnCustomDisplayInfos": {},
       "data": [
        [
         3182,
         "Faculdade UNIRB - ARAPIRACA",
         "Privada com fins lucrativos",
         "0.8950000",
         "3.775"
        ],
        [
         19206,
         "FACULDADE UNIRB - FORTALEZA",
         "Privada com fins lucrativos",
         "1.9130000",
         "3.855"
        ],
        [
         17667,
         "FACULDADE ANHANGUERA UNIDADE PARAUAPEBAS",
         "Privada com fins lucrativos",
         "2.2450000",
         "3.860"
        ],
        [
         2420,
         "FACULDADE PARANAENSE",
         "Privada com fins lucrativos",
         "1.3420000",
         "3.911"
        ],
        [
         3170,
         "FACULDADE ESTÁCIO DE FLORIANÓPOLIS - ESTÁCIO FLORIANÓPOLIS",
         "Privada com fins lucrativos",
         "3.1080000",
         "3.943"
        ],
        [
         5242,
         "UNIVERSIDADE ESTADUAL DE ALAGOAS - UNEAL",
         "Pública Estadual",
         "2.6430000",
         "3.956"
        ],
        [
         4251,
         "FACULDADE PITÁGORAS DE TECNOLOGIA DE BELO HORIZONTE",
         "Privada com fins lucrativos",
         "1.8010000",
         "3.976"
        ],
        [
         2027,
         "FACULDADE DE CAMPINA GRANDE",
         "Privada com fins lucrativos",
         "2.0150000",
         "4.045"
        ],
        [
         1680,
         "Faculdade Unirb - Mossoró",
         "Privada com fins lucrativos",
         "3.2780000",
         "4.048"
        ],
        [
         4858,
         "ESCOLA SUPERIOR DE SAÚDE DE ARCOVERDE",
         "Pública Municipal",
         "0.2230000",
         "4.072"
        ],
        [
         4257,
         "INSTITUTO DE FILOSOFIA E TEOLOGIA DE GOIÁS",
         "Privada sem fins lucrativos",
         "3.3260000",
         "4.076"
        ],
        [
         1276,
         "INSTITUTO TAUBATÉ DE ENSINO SUPERIOR",
         "Privada com fins lucrativos",
         "2.6940000",
         "4.105"
        ],
        [
         23867,
         "Faculdade de Tecnologia de Sumaré",
         "Pública Estadual",
         "4.0105000",
         "4.107"
        ],
        [
         16759,
         "FACULDADE DO BICO",
         "Privada com fins lucrativos",
         "1.5870000",
         "4.120"
        ],
        [
         1576,
         "INSTITUTO DE ENSINO SUPERIOR BLAURO CARDOSO DE MATTOS",
         "Privada sem fins lucrativos",
         "2.1270000",
         "4.123"
        ],
        [
         458,
         "UNIVERSIDADE IBIRAPUERA",
         "Privada sem fins lucrativos",
         "1.3045000",
         "4.125"
        ],
        [
         1084,
         "CENTRO UNIVERSITÁRIO CNEC DE BENTO GONÇALVES",
         "Privada sem fins lucrativos",
         "1.6765000",
         "4.125"
        ],
        [
         1785,
         "FACULDADE DE COLIDER",
         "Privada sem fins lucrativos",
         "1.3440000",
         "4.140"
        ],
        [
         18826,
         "Faculdade FILOS",
         "Privada com fins lucrativos",
         "0.1750000",
         "4.182"
        ],
        [
         16395,
         "Faculdade de Tecnologia de Carapicuiba",
         "Pública Estadual",
         "3.4090000",
         "4.186"
        ]
       ],
       "datasetInfos": [],
       "dbfsResultPath": null,
       "isJsonSchema": true,
       "metadata": {
        "dataframeName": "_sqldf",
        "executionCount": 18
       },
       "overflow": false,
       "plotOptions": {
        "customPlotOptions": {},
        "displayType": "table",
        "pivotAggregation": null,
        "pivotColumns": null,
        "xColumns": null,
        "yColumns": null
       },
       "removedWidgets": [],
       "schema": [
        {
         "metadata": "{}",
         "name": "codigo_da_ies",
         "type": "\"integer\""
        },
        {
         "metadata": "{}",
         "name": "nome_da_ies",
         "type": "\"string\""
        },
        {
         "metadata": "{}",
         "name": "categoria_administrativa",
         "type": "\"string\""
        },
        {
         "metadata": "{}",
         "name": "enade",
         "type": "\"decimal(14,7)\""
        },
        {
         "metadata": "{}",
         "name": "sq_mean",
         "type": "\"decimal(10,3)\""
        }
       ],
       "type": "table"
      }
     },
     "output_type": "display_data"
    }
   ],
   "source": [
    "%sql\n",
    "WITH ies_group AS (\n",
    "  SELECT\n",
    "    codigo_da_ies,\n",
    "    mean(conceito_enade_continuo) AS enade,\n",
    "    mean(\n",
    "      (\n",
    "        qe_i27 + qe_i29 + qe_i30 + qe_i31 + qe_i33 + qe_i34 + qe_i35 + qe_i36 + qe_i37 + qe_i38 + qe_i39 + qe_i42 + qe_i49 + qe_i56 + qe_i55 + qe_i58 + qe_i59 + qe_i60 + qe_i61 + qe_i62 + qe_i63 + qe_i64 + qe_i65 + qe_i66 + qe_i68 + qe_i43 + qe_i44 + qe_i45 + qe_i46 + qe_i47 + qe_i52 + qe_i53 + qe_i67\n",
    "      ) / 33\n",
    "    ) :: DECIMAL(10, 3) AS sq_mean\n",
    "  FROM\n",
    "    curso\n",
    "  GROUP BY\n",
    "    codigo_da_ies\n",
    ")\n",
    "SELECT\n",
    "  ies_group.codigo_da_ies,\n",
    "  nome_da_ies,\n",
    "  categoria_administrativa,\n",
    "  enade,\n",
    "  sq_mean\n",
    "FROM\n",
    "  ies_group\n",
    "  INNER JOIN ies ON ies_group.codigo_da_ies = ies.codigo_da_ies\n",
    "WHERE enade IS NOT NULL AND sq_mean IS NOT NULL\n",
    "ORDER BY\n",
    "  sq_mean ASC\n",
    "LIMIT\n",
    "  20;"
   ]
  },
  {
   "cell_type": "markdown",
   "metadata": {
    "application/vnd.databricks.v1+cell": {
     "cellMetadata": {},
     "inputWidgets": {},
     "nuid": "a03fde55-a04a-472e-b6ca-f13ed52e01b4",
     "showTitle": false,
     "title": ""
    }
   },
   "source": [
    "There are some interesting results here. Its possible to see that in general, well performing universities in enade are also well avaluated on student perception, but the worst performing universities in Enade (most of them private) are still well avaluated in student perception. This is confirmed in the following analysis, the best performing universites in student perception (most of them private) are generally badly evaluated in enade. In the case of the worst avaluated universities, most of them are also badly evaluated in enade. This prevalence of private universities in both ends is expected, while there are less then 400 Public Universities in Brazil, there are over 2000 Private Universities, so it is expected that they end up showing up more."
   ]
  },
  {
   "cell_type": "markdown",
   "metadata": {
    "application/vnd.databricks.v1+cell": {
     "cellMetadata": {},
     "inputWidgets": {},
     "nuid": "9ae613a5-cfae-4b3d-90e3-8f6a26e28a84",
     "showTitle": false,
     "title": ""
    }
   },
   "source": [
    "# Conclusion"
   ]
  },
  {
   "cell_type": "markdown",
   "metadata": {
    "application/vnd.databricks.v1+cell": {
     "cellMetadata": {},
     "inputWidgets": {},
     "nuid": "58241579-c88a-46b8-9f42-fc6cbd07f91d",
     "showTitle": false,
     "title": ""
    }
   },
   "source": [
    "In the analysis made, we were able to see that there is some truth to the suspicion of the professors that students avaluate worst Public Universities in comparisson to Public Universities. Even tho public universities are generally way better on enade, they are worst evaluated on student perception. It was also possible to see that there are really bad universities in Enade that still get maximum grade on student perception. "
   ]
  }
 ],
 "metadata": {
  "application/vnd.databricks.v1+notebook": {
   "dashboards": [],
   "environmentMetadata": null,
   "language": "python",
   "notebookMetadata": {
    "mostRecentlyExecutedCommandWithImplicitDF": {
     "commandId": 2588935760765871,
     "dataframes": [
      "_sqldf"
     ]
    },
    "pythonIndentUnit": 4
   },
   "notebookName": "analysis",
   "widgets": {}
  },
  "language_info": {
   "name": "python"
  }
 },
 "nbformat": 4,
 "nbformat_minor": 0
}
