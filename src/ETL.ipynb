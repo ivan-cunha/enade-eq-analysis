{
 "cells": [
  {
   "cell_type": "markdown",
   "metadata": {
    "application/vnd.databricks.v1+cell": {
     "cellMetadata": {
      "byteLimit": 2048000,
      "rowLimit": 10000
     },
     "inputWidgets": {},
     "nuid": "c0446016-2f47-4ef8-ae4b-1b1060a48bfb",
     "showTitle": false,
     "title": ""
    }
   },
   "source": [
    "# Setup"
   ]
  },
  {
   "cell_type": "code",
   "execution_count": null,
   "metadata": {
    "application/vnd.databricks.v1+cell": {
     "cellMetadata": {
      "byteLimit": 2048000,
      "rowLimit": 10000
     },
     "inputWidgets": {},
     "nuid": "35540965-3c5c-41dd-ac96-da0017c8831d",
     "showTitle": false,
     "title": ""
    }
   },
   "outputs": [
    {
     "name": "stdout",
     "output_type": "stream",
     "text": [
      "\u001b[43mNote: you may need to restart the kernel using %restart_python or dbutils.library.restartPython() to use updated packages.\u001b[0m\n",
      "Collecting unidecode\n",
      "  Obtaining dependency information for unidecode from https://files.pythonhosted.org/packages/84/b7/6ec57841fb67c98f52fc8e4a2d96df60059637cba077edc569a302a8ffc7/Unidecode-1.3.8-py3-none-any.whl.metadata\n",
      "  Downloading Unidecode-1.3.8-py3-none-any.whl.metadata (13 kB)\n",
      "Downloading Unidecode-1.3.8-py3-none-any.whl (235 kB)\n",
      "\u001b[?25l   \u001b[90m━━━━━━━━━━━━━━━━━━━━━━━━━━━━━━━━━━━━━━━━\u001b[0m \u001b[32m0.0/235.5 kB\u001b[0m \u001b[31m?\u001b[0m eta \u001b[36m-:--:--\u001b[0m\n",
      "\u001b[2K   \u001b[91m━━━━━━━━━━━━━━━━━━━━━━━━━━━━━\u001b[0m\u001b[91m╸\u001b[0m\u001b[90m━━━━━━━━━━\u001b[0m \u001b[32m174.1/235.5 kB\u001b[0m \u001b[31m5.0 MB/s\u001b[0m eta \u001b[36m0:00:01\u001b[0m\n",
      "\u001b[2K   \u001b[90m━━━━━━━━━━━━━━━━━━━━━━━━━━━━━━━━━━━━━━━━\u001b[0m \u001b[32m235.5/235.5 kB\u001b[0m \u001b[31m4.9 MB/s\u001b[0m eta \u001b[36m0:00:00\u001b[0m\n",
      "\u001b[?25hInstalling collected packages: unidecode\n",
      "Successfully installed unidecode-1.3.8\n",
      "\u001b[43mNote: you may need to restart the kernel using %restart_python or dbutils.library.restartPython() to use updated packages.\u001b[0m\n"
     ]
    }
   ],
   "source": [
    "%pip install unidecode"
   ]
  },
  {
   "cell_type": "code",
   "execution_count": null,
   "metadata": {
    "application/vnd.databricks.v1+cell": {
     "cellMetadata": {
      "byteLimit": 2048000,
      "rowLimit": 10000
     },
     "inputWidgets": {},
     "nuid": "3d415d00-ead5-4f93-9da3-d1324087ec58",
     "showTitle": false,
     "title": ""
    }
   },
   "outputs": [],
   "source": [
    "from pyspark.sql.functions import when, avg\n",
    "from pyspark.sql.types import IntegerType, DecimalType\n",
    "from pyspark.sql.functions import col, regexp_replace\n",
    "import re\n",
    "from unidecode import unidecode\n",
    "\n",
    "spark._jsc.hadoopConfiguration().set(\"fs.s3a.access.key\", \"<access_key>\")\n",
    "spark._jsc.hadoopConfiguration().set(\n",
    "    \"fs.s3a.secret.key\", \"<secret_key>\"\n",
    ")\n",
    "spark._jsc.hadoopConfiguration().set(\"fs.s3a.endpoint\", \"s3.amazonaws.com\")"
   ]
  },
  {
   "cell_type": "markdown",
   "metadata": {
    "application/vnd.databricks.v1+cell": {
     "cellMetadata": {
      "byteLimit": 2048000,
      "rowLimit": 10000
     },
     "inputWidgets": {},
     "nuid": "a9ac416b-a8d2-4598-b029-a49c806f0a9f",
     "showTitle": false,
     "title": ""
    }
   },
   "source": [
    "# ETL Enade File"
   ]
  },
  {
   "cell_type": "code",
   "execution_count": null,
   "metadata": {
    "application/vnd.databricks.v1+cell": {
     "cellMetadata": {
      "byteLimit": 2048000,
      "rowLimit": 10000
     },
     "inputWidgets": {},
     "nuid": "0137a4c3-4579-422e-ad1e-a3007b629359",
     "showTitle": false,
     "title": ""
    }
   },
   "outputs": [
    {
     "name": "stdout",
     "output_type": "stream",
     "text": [
      "['Ano', 'Código da Área', 'Área de Avaliação', 'Grau Acadêmico', 'Código da IES', 'Nome da IES*', 'Sigla da IES*', 'Organização Acadêmica', 'Categoria Administrativa', 'Código do Curso', 'Modalidade de Ensino', 'Código do Município**', 'Município do Curso**', 'Sigla da UF** ', 'Nº de Concluintes Inscritos', 'Nº  de Concluintes Participantes', 'Nota Bruta - FG', 'Nota Padronizada - FG', 'Nota Bruta - CE', 'Nota Padronizada - CE', 'Conceito Enade (Contínuo)', 'Conceito Enade (Faixa)', 'Observação']\n"
     ]
    }
   ],
   "source": [
    "s3_path = \"s3://ivan-mvp-puc/conceito_enade_2022.CSV\"\n",
    "df = (\n",
    "    spark.read.format(\"csv\")\n",
    "    .option(\"header\", \"true\")\n",
    "    .option(\"delimiter\", \";\")\n",
    "    .option(\"encoding\", \"ISO-8859-1\")\n",
    "    .load(s3_path)\n",
    ")\n",
    "print(df.columns)"
   ]
  },
  {
   "cell_type": "code",
   "execution_count": null,
   "metadata": {
    "application/vnd.databricks.v1+cell": {
     "cellMetadata": {
      "byteLimit": 2048000,
      "rowLimit": 10000
     },
     "inputWidgets": {},
     "nuid": "e803a4c9-50f9-4e5e-af35-435aeb2abede",
     "showTitle": false,
     "title": ""
    }
   },
   "outputs": [],
   "source": [
    "df = df.drop(\"Observação\")"
   ]
  },
  {
   "cell_type": "markdown",
   "metadata": {
    "application/vnd.databricks.v1+cell": {
     "cellMetadata": {
      "byteLimit": 2048000,
      "rowLimit": 10000
     },
     "inputWidgets": {},
     "nuid": "33d65ce7-b262-42b6-a8ae-1602327cbb72",
     "showTitle": true,
     "title": ""
    }
   },
   "source": [
    "It is necessary to remove any special characters and spaces from the column names, that's what the next function does"
   ]
  },
  {
   "cell_type": "code",
   "execution_count": null,
   "metadata": {
    "application/vnd.databricks.v1+cell": {
     "cellMetadata": {
      "byteLimit": 2048000,
      "rowLimit": 10000
     },
     "inputWidgets": {},
     "nuid": "c42e7766-2a2e-45c3-9bd0-bfa541f4ade0",
     "showTitle": false,
     "title": ""
    }
   },
   "outputs": [],
   "source": [
    "def clean_column_name(col_name):\n",
    "    cleaned_name = unidecode(col_name).lower()\n",
    "    cleaned_name = re.sub(r\"[^a-zA-Z0-9_]\", \"_\", cleaned_name)\n",
    "    cleaned_name = re.sub(r\"_+\", \"_\", cleaned_name)\n",
    "    cleaned_name = re.sub(r\"_+$\", \"\", cleaned_name)\n",
    "\n",
    "    return cleaned_name"
   ]
  },
  {
   "cell_type": "code",
   "execution_count": null,
   "metadata": {
    "application/vnd.databricks.v1+cell": {
     "cellMetadata": {
      "byteLimit": 2048000,
      "rowLimit": 10000
     },
     "inputWidgets": {},
     "nuid": "37e151b2-40a9-4ff9-be80-729c1af3d54d",
     "showTitle": false,
     "title": ""
    }
   },
   "outputs": [],
   "source": [
    "new_column_names = [clean_column_name(col_name) for col_name in df.columns]\n",
    "for old_name, new_name in zip(df.columns, new_column_names):\n",
    "    df = df.withColumnRenamed(old_name, new_name)"
   ]
  },
  {
   "cell_type": "markdown",
   "metadata": {
    "application/vnd.databricks.v1+cell": {
     "cellMetadata": {
      "byteLimit": 2048000,
      "rowLimit": 10000
     },
     "inputWidgets": {},
     "nuid": "14d78fbc-0111-4cb2-8462-b03786af6c16",
     "showTitle": false,
     "title": ""
    }
   },
   "source": [
    "When the course did not have enouth data to have an avaluation, the value of the enade column was \"SC\", to make it standard and make the column to be an integer, the value \"SC\" (witch translates to \"Without Avaluation\") was substituted to a null value"
   ]
  },
  {
   "cell_type": "code",
   "execution_count": null,
   "metadata": {
    "application/vnd.databricks.v1+cell": {
     "cellMetadata": {
      "byteLimit": 2048000,
      "rowLimit": 10000
     },
     "inputWidgets": {},
     "nuid": "c57b75b8-41c7-4df2-8214-82bffdd071f2",
     "showTitle": false,
     "title": ""
    }
   },
   "outputs": [],
   "source": [
    "df = df.withColumn(\n",
    "    \"conceito_enade_faixa\",\n",
    "    when((df[\"conceito_enade_faixa\"] == \"SC\"), None).otherwise(\n",
    "        df[\"conceito_enade_faixa\"]\n",
    "    ),\n",
    ")"
   ]
  },
  {
   "cell_type": "markdown",
   "metadata": {
    "application/vnd.databricks.v1+cell": {
     "cellMetadata": {
      "byteLimit": 2048000,
      "rowLimit": 10000
     },
     "inputWidgets": {},
     "nuid": "c35e2e52-5110-4473-a0fb-e401f7ff6f50",
     "showTitle": false,
     "title": ""
    }
   },
   "source": [
    "Then, the columns were transformed to their correct data types"
   ]
  },
  {
   "cell_type": "code",
   "execution_count": null,
   "metadata": {
    "application/vnd.databricks.v1+cell": {
     "cellMetadata": {
      "byteLimit": 2048000,
      "rowLimit": 10000
     },
     "inputWidgets": {},
     "nuid": "948c1c39-5198-45a7-b25b-3ea70d6460d5",
     "showTitle": false,
     "title": ""
    }
   },
   "outputs": [
    {
     "name": "stdout",
     "output_type": "stream",
     "text": [
      "root\n",
      " |-- ano: integer (nullable = true)\n",
      " |-- codigo_da_area: integer (nullable = true)\n",
      " |-- area_de_avaliacao: string (nullable = true)\n",
      " |-- grau_academico: string (nullable = true)\n",
      " |-- codigo_da_ies: integer (nullable = true)\n",
      " |-- nome_da_ies: string (nullable = true)\n",
      " |-- sigla_da_ies: string (nullable = true)\n",
      " |-- organizacao_academica: string (nullable = true)\n",
      " |-- categoria_administrativa: string (nullable = true)\n",
      " |-- codigo_do_curso: integer (nullable = true)\n",
      " |-- modalidade_de_ensino: string (nullable = true)\n",
      " |-- codigo_do_municipio: integer (nullable = true)\n",
      " |-- municipio_do_curso: string (nullable = true)\n",
      " |-- sigla_da_uf: string (nullable = true)\n",
      " |-- no_de_concluintes_inscritos: integer (nullable = true)\n",
      " |-- no_de_concluintes_participantes: integer (nullable = true)\n",
      " |-- nota_bruta_fg: decimal(10,3) (nullable = true)\n",
      " |-- nota_padronizada_fg: decimal(10,3) (nullable = true)\n",
      " |-- nota_bruta_ce: decimal(10,3) (nullable = true)\n",
      " |-- nota_padronizada_ce: decimal(10,3) (nullable = true)\n",
      " |-- conceito_enade_continuo: decimal(10,3) (nullable = true)\n",
      " |-- conceito_enade_faixa: integer (nullable = true)\n",
      "\n"
     ]
    }
   ],
   "source": [
    "new_types = {\n",
    "    \"ano\": IntegerType(),\n",
    "    \"codigo_da_area\": IntegerType(),\n",
    "    \"codigo_da_ies\": IntegerType(),\n",
    "    \"codigo_do_curso\": IntegerType(),\n",
    "    \"codigo_do_municipio\": IntegerType(),\n",
    "    \"no_de_concluintes_inscritos\": IntegerType(),\n",
    "    \"no_de_concluintes_participantes\": IntegerType(),\n",
    "    \"nota_bruta_fg\": DecimalType(10, 3),\n",
    "    \"nota_padronizada_fg\": DecimalType(10, 3),\n",
    "    \"nota_bruta_ce\": DecimalType(10, 3),\n",
    "    \"nota_padronizada_ce\": DecimalType(10, 3),\n",
    "    \"conceito_enade_continuo\": DecimalType(10, 3),\n",
    "    \"conceito_enade_faixa\": IntegerType(),\n",
    "}\n",
    "for col_name, col_type in new_types.items():\n",
    "    if isinstance(col_type, DecimalType):\n",
    "        df = df.withColumn(col_name, regexp_replace(col(col_name), \",\", \".\"))\n",
    "    df = df.withColumn(col_name, col(col_name).cast(col_type))\n",
    "\n",
    "df.printSchema()"
   ]
  },
  {
   "cell_type": "markdown",
   "metadata": {
    "application/vnd.databricks.v1+cell": {
     "cellMetadata": {
      "byteLimit": 2048000,
      "rowLimit": 10000
     },
     "inputWidgets": {},
     "nuid": "1e85a0a5-a9e5-4473-9957-389020f8bc46",
     "showTitle": false,
     "title": ""
    }
   },
   "source": [
    "The dataset was then, normalized. Separating between the institution data, the city data, the course area data and the course data"
   ]
  },
  {
   "cell_type": "code",
   "execution_count": null,
   "metadata": {
    "application/vnd.databricks.v1+cell": {
     "cellMetadata": {
      "byteLimit": 2048000,
      "rowLimit": 10000
     },
     "inputWidgets": {},
     "nuid": "58978ce5-42c5-43e3-b0e5-044362032285",
     "showTitle": false,
     "title": ""
    }
   },
   "outputs": [],
   "source": [
    "ies_df = df.select(\n",
    "    \"codigo_da_ies\",\n",
    "    \"nome_da_ies\",\n",
    "    \"sigla_da_ies\",\n",
    "    \"organizacao_academica\",\n",
    "    \"categoria_administrativa\",\n",
    ").distinct()\n",
    "\n",
    "municipio_df = df.select(\"codigo_do_municipio\", \"municipio_do_curso\").distinct()\n",
    "\n",
    "area_df = df.select(\"codigo_da_area\", \"area_de_avaliacao\").distinct()\n",
    "\n",
    "curso_df = df.select(\n",
    "    \"ano\",\n",
    "    \"codigo_do_curso\",\n",
    "    \"codigo_da_area\",\n",
    "    \"grau_academico\",\n",
    "    \"codigo_da_ies\",\n",
    "    \"codigo_do_municipio\",\n",
    "    \"modalidade_de_ensino\",\n",
    "    \"no_de_concluintes_inscritos\",\n",
    "    \"no_de_concluintes_participantes\",\n",
    "    \"nota_bruta_fg\",\n",
    "    \"nota_padronizada_fg\",\n",
    "    \"nota_bruta_ce\",\n",
    "    \"nota_padronizada_ce\",\n",
    "    \"conceito_enade_continuo\",\n",
    "    \"conceito_enade_faixa\",\n",
    ").distinct()"
   ]
  },
  {
   "cell_type": "markdown",
   "metadata": {
    "application/vnd.databricks.v1+cell": {
     "cellMetadata": {
      "byteLimit": 2048000,
      "rowLimit": 10000
     },
     "inputWidgets": {},
     "nuid": "c17ea51b-ea04-4b5d-8467-0c3700cc9865",
     "showTitle": false,
     "title": ""
    }
   },
   "source": [
    "# ETL - Student Questionnaire"
   ]
  },
  {
   "cell_type": "code",
   "execution_count": null,
   "metadata": {
    "application/vnd.databricks.v1+cell": {
     "cellMetadata": {
      "byteLimit": 2048000,
      "rowLimit": 10000
     },
     "inputWidgets": {},
     "nuid": "75c4f73b-9076-4fb4-9ff3-967d8a19db7d",
     "showTitle": false,
     "title": ""
    }
   },
   "outputs": [
    {
     "name": "stdout",
     "output_type": "stream",
     "text": [
      "root\n",
      " |-- NU_ANO: string (nullable = true)\n",
      " |-- CO_CURSO: string (nullable = true)\n",
      " |-- QE_I27: string (nullable = true)\n",
      " |-- QE_I28: string (nullable = true)\n",
      " |-- QE_I29: string (nullable = true)\n",
      " |-- QE_I30: string (nullable = true)\n",
      " |-- QE_I31: string (nullable = true)\n",
      " |-- QE_I32: string (nullable = true)\n",
      " |-- QE_I33: string (nullable = true)\n",
      " |-- QE_I34: string (nullable = true)\n",
      " |-- QE_I35: string (nullable = true)\n",
      " |-- QE_I36: string (nullable = true)\n",
      " |-- QE_I37: string (nullable = true)\n",
      " |-- QE_I38: string (nullable = true)\n",
      " |-- QE_I39: string (nullable = true)\n",
      " |-- QE_I40: string (nullable = true)\n",
      " |-- QE_I41: string (nullable = true)\n",
      " |-- QE_I42: string (nullable = true)\n",
      " |-- QE_I43: string (nullable = true)\n",
      " |-- QE_I44: string (nullable = true)\n",
      " |-- QE_I45: string (nullable = true)\n",
      " |-- QE_I46: string (nullable = true)\n",
      " |-- QE_I47: string (nullable = true)\n",
      " |-- QE_I48: string (nullable = true)\n",
      " |-- QE_I49: string (nullable = true)\n",
      " |-- QE_I50: string (nullable = true)\n",
      " |-- QE_I51: string (nullable = true)\n",
      " |-- QE_I52: string (nullable = true)\n",
      " |-- QE_I53: string (nullable = true)\n",
      " |-- QE_I54: string (nullable = true)\n",
      " |-- QE_I55: string (nullable = true)\n",
      " |-- QE_I56: string (nullable = true)\n",
      " |-- QE_I57: string (nullable = true)\n",
      " |-- QE_I58: string (nullable = true)\n",
      " |-- QE_I59: string (nullable = true)\n",
      " |-- QE_I60: string (nullable = true)\n",
      " |-- QE_I61: string (nullable = true)\n",
      " |-- QE_I62: string (nullable = true)\n",
      " |-- QE_I63: string (nullable = true)\n",
      " |-- QE_I64: string (nullable = true)\n",
      " |-- QE_I65: string (nullable = true)\n",
      " |-- QE_I66: string (nullable = true)\n",
      " |-- QE_I67: string (nullable = true)\n",
      " |-- QE_I68: string (nullable = true)\n",
      "\n"
     ]
    }
   ],
   "source": [
    "s3_path = \"s3://ivan-mvp-puc/microdados2022_arq4.txt\"\n",
    "sq_df = (\n",
    "    spark.read.format(\"csv\")\n",
    "    .option(\"header\", \"true\")\n",
    "    .option(\"delimiter\", \";\")\n",
    "    .load(s3_path)\n",
    ")\n",
    "sq_df.printSchema()"
   ]
  },
  {
   "cell_type": "markdown",
   "metadata": {
    "application/vnd.databricks.v1+cell": {
     "cellMetadata": {
      "byteLimit": 2048000,
      "rowLimit": 10000
     },
     "inputWidgets": {},
     "nuid": "78f60983-97a0-433f-915e-167391fa0d8c",
     "showTitle": false,
     "title": ""
    }
   },
   "source": [
    "The same treatment in the column name was applied here"
   ]
  },
  {
   "cell_type": "code",
   "execution_count": null,
   "metadata": {
    "application/vnd.databricks.v1+cell": {
     "cellMetadata": {
      "byteLimit": 2048000,
      "rowLimit": 10000
     },
     "inputWidgets": {},
     "nuid": "2606045c-a48d-473c-8963-904711c3e976",
     "showTitle": false,
     "title": ""
    }
   },
   "outputs": [],
   "source": [
    "new_column_names = [clean_column_name(col_name) for col_name in sq_df.columns]\n",
    "for old_name, new_name in zip(df.columns, new_column_names):\n",
    "    sq_df = sq_df.withColumnRenamed(old_name, new_name)"
   ]
  },
  {
   "cell_type": "markdown",
   "metadata": {
    "application/vnd.databricks.v1+cell": {
     "cellMetadata": {
      "byteLimit": 2048000,
      "rowLimit": 10000
     },
     "inputWidgets": {},
     "nuid": "c4c558f5-83f3-4c00-aaae-7c275f4ed63b",
     "showTitle": false,
     "title": ""
    }
   },
   "source": [
    "This file has each unique response to the student questionnaire, the aswers varied from 1 (Strongly Disagree) to 6 (Strongly Agree). The numbers 7 and 8 are not an avaluation, they mean \"Dont know how to answer\" and \"Does not apply\" respectively. So these values were substituted to null values."
   ]
  },
  {
   "cell_type": "code",
   "execution_count": null,
   "metadata": {
    "application/vnd.databricks.v1+cell": {
     "cellMetadata": {
      "byteLimit": 2048000,
      "rowLimit": 10000
     },
     "inputWidgets": {},
     "nuid": "6740745e-5220-4d39-86a6-9465eb06526f",
     "showTitle": false,
     "title": ""
    }
   },
   "outputs": [],
   "source": [
    "questions = [\n",
    "    \"qe_i27\",\n",
    "    \"qe_i28\",\n",
    "    \"qe_i29\",\n",
    "    \"qe_i30\",\n",
    "    \"qe_i31\",\n",
    "    \"qe_i32\",\n",
    "    \"qe_i33\",\n",
    "    \"qe_i34\",\n",
    "    \"qe_i35\",\n",
    "    \"qe_i36\",\n",
    "    \"qe_i37\",\n",
    "    \"qe_i38\",\n",
    "    \"qe_i39\",\n",
    "    \"qe_i40\",\n",
    "    \"qe_i41\",\n",
    "    \"qe_i42\",\n",
    "    \"qe_i43\",\n",
    "    \"qe_i44\",\n",
    "    \"qe_i45\",\n",
    "    \"qe_i46\",\n",
    "    \"qe_i47\",\n",
    "    \"qe_i48\",\n",
    "    \"qe_i49\",\n",
    "    \"qe_i50\",\n",
    "    \"qe_i51\",\n",
    "    \"qe_i52\",\n",
    "    \"qe_i53\",\n",
    "    \"qe_i54\",\n",
    "    \"qe_i55\",\n",
    "    \"qe_i56\",\n",
    "    \"qe_i57\",\n",
    "    \"qe_i58\",\n",
    "    \"qe_i59\",\n",
    "    \"qe_i60\",\n",
    "    \"qe_i61\",\n",
    "    \"qe_i62\",\n",
    "    \"qe_i63\",\n",
    "    \"qe_i64\",\n",
    "    \"qe_i65\",\n",
    "    \"qe_i66\",\n",
    "    \"qe_i67\",\n",
    "    \"qe_i68\",\n",
    "]\n",
    "for column in questions:\n",
    "    sq_df = sq_df.withColumn(\n",
    "        column,\n",
    "        when((sq_df[column] == 7) | (sq_df[column] == 8), None).otherwise(\n",
    "            sq_df[column]\n",
    "        ),\n",
    "    )"
   ]
  },
  {
   "cell_type": "markdown",
   "metadata": {
    "application/vnd.databricks.v1+cell": {
     "cellMetadata": {
      "byteLimit": 2048000,
      "rowLimit": 10000
     },
     "inputWidgets": {},
     "nuid": "44969e7a-7d72-4001-a863-6ff3147b232b",
     "showTitle": false,
     "title": ""
    }
   },
   "source": [
    "Then, the answers were grouped so each row has the mean of all the aswers to each course"
   ]
  },
  {
   "cell_type": "code",
   "execution_count": null,
   "metadata": {
    "application/vnd.databricks.v1+cell": {
     "cellMetadata": {
      "byteLimit": 2048000,
      "rowLimit": 10000
     },
     "inputWidgets": {},
     "nuid": "aa5bd6e5-8222-42e6-a3cc-ff8943928f0b",
     "showTitle": false,
     "title": ""
    }
   },
   "outputs": [],
   "source": [
    "grouped_sq_df = sq_df.groupBy([\"nu_ano\", \"co_curso\"]).agg(\n",
    "    *[avg(col).alias(f\"{col}\").cast(DecimalType(10, 3)) for col in questions]\n",
    ")"
   ]
  },
  {
   "cell_type": "markdown",
   "metadata": {
    "application/vnd.databricks.v1+cell": {
     "cellMetadata": {
      "byteLimit": 2048000,
      "rowLimit": 10000
     },
     "inputWidgets": {},
     "nuid": "9111e97f-85b8-4533-8a15-7bdb5992a600",
     "showTitle": false,
     "title": ""
    }
   },
   "source": [
    "# Join Dataframes"
   ]
  },
  {
   "cell_type": "markdown",
   "metadata": {
    "application/vnd.databricks.v1+cell": {
     "cellMetadata": {
      "byteLimit": 2048000,
      "rowLimit": 10000
     },
     "inputWidgets": {},
     "nuid": "bcb25227-e950-452c-9e4f-1130f62736d3",
     "showTitle": false,
     "title": ""
    }
   },
   "source": [
    "Since the coursed dataframe and this dataframe depends on the same primary key (year and course_code), they were joined."
   ]
  },
  {
   "cell_type": "code",
   "execution_count": null,
   "metadata": {
    "application/vnd.databricks.v1+cell": {
     "cellMetadata": {
      "byteLimit": 2048000,
      "rowLimit": 10000
     },
     "inputWidgets": {},
     "nuid": "f461b697-b506-4a1f-9b41-2720a9aef1c7",
     "showTitle": false,
     "title": ""
    }
   },
   "outputs": [],
   "source": [
    "grouped_sq_df = grouped_sq_df.withColumnRenamed(\"nu_ano\", \"ano\").withColumnRenamed(\n",
    "    \"co_curso\", \"codigo_do_curso\"\n",
    ")"
   ]
  },
  {
   "cell_type": "code",
   "execution_count": null,
   "metadata": {
    "application/vnd.databricks.v1+cell": {
     "cellMetadata": {
      "byteLimit": 2048000,
      "rowLimit": 10000
     },
     "inputWidgets": {},
     "nuid": "fda0dbbc-a243-474e-b968-172417295c82",
     "showTitle": false,
     "title": ""
    }
   },
   "outputs": [],
   "source": [
    "curso_df = curso_df.join(grouped_sq_df, on=[\"ano\", \"codigo_do_curso\"], how=\"inner\")"
   ]
  },
  {
   "cell_type": "code",
   "execution_count": null,
   "metadata": {
    "application/vnd.databricks.v1+cell": {
     "cellMetadata": {
      "byteLimit": 2048000,
      "rowLimit": 10000
     },
     "inputWidgets": {},
     "nuid": "490e3453-9ef3-49fc-bfde-23f41b5aeca9",
     "showTitle": false,
     "title": ""
    }
   },
   "outputs": [
    {
     "name": "stdout",
     "output_type": "stream",
     "text": [
      "root\n",
      " |-- ano: integer (nullable = true)\n",
      " |-- codigo_do_curso: integer (nullable = true)\n",
      " |-- codigo_da_area: integer (nullable = true)\n",
      " |-- grau_academico: string (nullable = true)\n",
      " |-- codigo_da_ies: integer (nullable = true)\n",
      " |-- codigo_do_municipio: integer (nullable = true)\n",
      " |-- modalidade_de_ensino: string (nullable = true)\n",
      " |-- no_de_concluintes_inscritos: integer (nullable = true)\n",
      " |-- no_de_concluintes_participantes: integer (nullable = true)\n",
      " |-- nota_bruta_fg: decimal(10,3) (nullable = true)\n",
      " |-- nota_padronizada_fg: decimal(10,3) (nullable = true)\n",
      " |-- nota_bruta_ce: decimal(10,3) (nullable = true)\n",
      " |-- nota_padronizada_ce: decimal(10,3) (nullable = true)\n",
      " |-- conceito_enade_continuo: decimal(10,3) (nullable = true)\n",
      " |-- conceito_enade_faixa: integer (nullable = true)\n",
      " |-- qe_i27: decimal(10,3) (nullable = true)\n",
      " |-- qe_i28: decimal(10,3) (nullable = true)\n",
      " |-- qe_i29: decimal(10,3) (nullable = true)\n",
      " |-- qe_i30: decimal(10,3) (nullable = true)\n",
      " |-- qe_i31: decimal(10,3) (nullable = true)\n",
      " |-- qe_i32: decimal(10,3) (nullable = true)\n",
      " |-- qe_i33: decimal(10,3) (nullable = true)\n",
      " |-- qe_i34: decimal(10,3) (nullable = true)\n",
      " |-- qe_i35: decimal(10,3) (nullable = true)\n",
      " |-- qe_i36: decimal(10,3) (nullable = true)\n",
      " |-- qe_i37: decimal(10,3) (nullable = true)\n",
      " |-- qe_i38: decimal(10,3) (nullable = true)\n",
      " |-- qe_i39: decimal(10,3) (nullable = true)\n",
      " |-- qe_i40: decimal(10,3) (nullable = true)\n",
      " |-- qe_i41: decimal(10,3) (nullable = true)\n",
      " |-- qe_i42: decimal(10,3) (nullable = true)\n",
      " |-- qe_i43: decimal(10,3) (nullable = true)\n",
      " |-- qe_i44: decimal(10,3) (nullable = true)\n",
      " |-- qe_i45: decimal(10,3) (nullable = true)\n",
      " |-- qe_i46: decimal(10,3) (nullable = true)\n",
      " |-- qe_i47: decimal(10,3) (nullable = true)\n",
      " |-- qe_i48: decimal(10,3) (nullable = true)\n",
      " |-- qe_i49: decimal(10,3) (nullable = true)\n",
      " |-- qe_i50: decimal(10,3) (nullable = true)\n",
      " |-- qe_i51: decimal(10,3) (nullable = true)\n",
      " |-- qe_i52: decimal(10,3) (nullable = true)\n",
      " |-- qe_i53: decimal(10,3) (nullable = true)\n",
      " |-- qe_i54: decimal(10,3) (nullable = true)\n",
      " |-- qe_i55: decimal(10,3) (nullable = true)\n",
      " |-- qe_i56: decimal(10,3) (nullable = true)\n",
      " |-- qe_i57: decimal(10,3) (nullable = true)\n",
      " |-- qe_i58: decimal(10,3) (nullable = true)\n",
      " |-- qe_i59: decimal(10,3) (nullable = true)\n",
      " |-- qe_i60: decimal(10,3) (nullable = true)\n",
      " |-- qe_i61: decimal(10,3) (nullable = true)\n",
      " |-- qe_i62: decimal(10,3) (nullable = true)\n",
      " |-- qe_i63: decimal(10,3) (nullable = true)\n",
      " |-- qe_i64: decimal(10,3) (nullable = true)\n",
      " |-- qe_i65: decimal(10,3) (nullable = true)\n",
      " |-- qe_i66: decimal(10,3) (nullable = true)\n",
      " |-- qe_i67: decimal(10,3) (nullable = true)\n",
      " |-- qe_i68: decimal(10,3) (nullable = true)\n",
      "\n"
     ]
    }
   ],
   "source": [
    "curso_df.printSchema()"
   ]
  },
  {
   "cell_type": "code",
   "execution_count": null,
   "metadata": {
    "application/vnd.databricks.v1+cell": {
     "cellMetadata": {
      "byteLimit": 2048000,
      "rowLimit": 10000
     },
     "inputWidgets": {},
     "nuid": "e5b02627-5654-4c8c-b0f6-8d8b43bfdaff",
     "showTitle": false,
     "title": ""
    }
   },
   "outputs": [
    {
     "name": "stdout",
     "output_type": "stream",
     "text": [
      "ano: 2022\n",
      "codigo_do_curso: 58120\n",
      "codigo_da_area: 2\n",
      "grau_academico: Bacharelado\n",
      "codigo_da_ies: 1591\n",
      "codigo_do_municipio: 1600303\n",
      "modalidade_de_ensino: Educação Presencial\n",
      "no_de_concluintes_inscritos: 156\n",
      "no_de_concluintes_participantes: 99\n",
      "nota_bruta_fg: 50.143\n",
      "nota_padronizada_fg: 1.679\n",
      "nota_bruta_ce: 33.776\n",
      "nota_padronizada_ce: 1.490\n",
      "conceito_enade_continuo: 1.537\n",
      "conceito_enade_faixa: 2\n",
      "qe_i27: 4.959\n",
      "qe_i28: 4.752\n",
      "qe_i29: 4.562\n",
      "qe_i30: 4.220\n",
      "qe_i31: 5.008\n",
      "qe_i32: 4.395\n",
      "qe_i33: 5.048\n",
      "qe_i34: 5.073\n",
      "qe_i35: 5.024\n",
      "qe_i36: 4.992\n",
      "qe_i37: 4.339\n",
      "qe_i38: 4.379\n",
      "qe_i39: 4.581\n",
      "qe_i40: 4.008\n",
      "qe_i41: 4.815\n",
      "qe_i42: 4.806\n",
      "qe_i43: 3.816\n",
      "qe_i44: 3.509\n",
      "qe_i45: 4.286\n",
      "qe_i46: 3.423\n",
      "qe_i47: 4.361\n",
      "qe_i48: 4.161\n",
      "qe_i49: 4.508\n",
      "qe_i50: 4.270\n",
      "qe_i51: 4.395\n",
      "qe_i52: 2.733\n",
      "qe_i53: 2.441\n",
      "qe_i54: 4.615\n",
      "qe_i55: 4.746\n",
      "qe_i56: 3.992\n",
      "qe_i57: 4.664\n",
      "qe_i58: 4.528\n",
      "qe_i59: 4.317\n",
      "qe_i60: 3.819\n",
      "qe_i61: 4.721\n",
      "qe_i62: 4.615\n",
      "qe_i63: 4.583\n",
      "qe_i64: 4.446\n",
      "qe_i65: 4.934\n",
      "qe_i66: 4.667\n",
      "qe_i67: 3.843\n",
      "qe_i68: 4.901\n"
     ]
    }
   ],
   "source": [
    "result = curso_df.collect()[0].asDict()\n",
    "\n",
    "for key, value in result.items():\n",
    "    print(f\"{key}: {value}\")"
   ]
  },
  {
   "cell_type": "markdown",
   "metadata": {
    "application/vnd.databricks.v1+cell": {
     "cellMetadata": {
      "byteLimit": 2048000,
      "rowLimit": 10000
     },
     "inputWidgets": {},
     "nuid": "617ff88c-a39c-49f6-9b3a-5bcab50cd910",
     "showTitle": false,
     "title": ""
    }
   },
   "source": [
    "# Save Dataframes"
   ]
  },
  {
   "cell_type": "markdown",
   "metadata": {
    "application/vnd.databricks.v1+cell": {
     "cellMetadata": {
      "byteLimit": 2048000,
      "rowLimit": 10000
     },
     "inputWidgets": {},
     "nuid": "5ac1ed24-5e34-41e7-9ccf-9360098695f5",
     "showTitle": false,
     "title": ""
    }
   },
   "source": [
    "All tables were saved for analysis"
   ]
  },
  {
   "cell_type": "code",
   "execution_count": null,
   "metadata": {
    "application/vnd.databricks.v1+cell": {
     "cellMetadata": {
      "byteLimit": 2048000,
      "rowLimit": 10000
     },
     "inputWidgets": {},
     "nuid": "f79922b4-2d07-42ea-8130-dec509b6041b",
     "showTitle": false,
     "title": ""
    }
   },
   "outputs": [],
   "source": [
    "curso_df.write.format(\"delta\").mode(\"overwrite\").saveAsTable(\"curso\")\n",
    "ies_df.write.format(\"delta\").mode(\"overwrite\").saveAsTable(\"ies\")\n",
    "municipio_df.write.format(\"delta\").mode(\"overwrite\").saveAsTable(\"municipio\")\n",
    "area_df.write.format(\"delta\").mode(\"overwrite\").saveAsTable(\"area\")"
   ]
  }
 ],
 "metadata": {
  "application/vnd.databricks.v1+notebook": {
   "dashboards": [],
   "environmentMetadata": null,
   "language": "python",
   "notebookMetadata": {
    "pythonIndentUnit": 4
   },
   "notebookName": "ETL",
   "widgets": {}
  },
  "language_info": {
   "name": "python"
  }
 },
 "nbformat": 4,
 "nbformat_minor": 0
}
